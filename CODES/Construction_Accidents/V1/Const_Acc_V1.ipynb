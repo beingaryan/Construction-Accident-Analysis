{
 "cells": [
  {
   "cell_type": "code",
   "execution_count": 1,
   "metadata": {
    "scrolled": true
   },
   "outputs": [
    {
     "name": "stdout",
     "output_type": "stream",
     "text": [
      "[WinError 2] The system cannot find the file specified: 'D:/Downloads/'\n",
      "C:\\Users\\ryans\\Desktop\\TY RESOURCES\\IIT KGP INTERNSHIP\\TEXT PREPROCESSING\n"
     ]
    }
   ],
   "source": [
    "cd D:/Downloads/"
   ]
  },
  {
   "cell_type": "code",
   "execution_count": 2,
   "metadata": {},
   "outputs": [
    {
     "name": "stdout",
     "output_type": "stream",
     "text": [
      "['.ipynb_checkpoints', 'Bayes_rule-300x172.webp', 'Construction_Accidents (1).ipynb', 'datasets_4133_8841_sample.csv', 'debug.log', 'DEEP LEARNING.pptx', 'glove.6B.300d.txt', 'images.png', 'images1.jpg', 'LAT PROG', 'NLP (2).ipynb', 'NLP.ipynb', 'osha.xlsx', 'Project_Accidents.ipynb', 'Research Paper.pdf', 'SPACY CHEATSHEET.png', 'tagged1000.csv', 'Text Analysis - Copy.pptx', 'Text Analysis.pptx', 'TFIDF.png', 'trf_deep_learning.pdf', 'zhang2019(3).pdf', '~$Text Analysis.pptx']\n"
     ]
    }
   ],
   "source": [
    "import os\n",
    "print(os.listdir())"
   ]
  },
  {
   "cell_type": "code",
   "execution_count": 3,
   "metadata": {},
   "outputs": [
    {
     "name": "stderr",
     "output_type": "stream",
     "text": [
      "C:\\Users\\ryans\\Anaconda3\\lib\\site-packages\\numpy\\_distributor_init.py:32: UserWarning: loaded more than 1 DLL from .libs:\n",
      "C:\\Users\\ryans\\Anaconda3\\lib\\site-packages\\numpy\\.libs\\libopenblas.NOIJJG62EMASZI6NYURL6JBKM4EVBGM7.gfortran-win_amd64.dll\n",
      "C:\\Users\\ryans\\Anaconda3\\lib\\site-packages\\numpy\\.libs\\libopenblas.PYQHXLVVQ7VESDPUVUADXEVJOBGHJPAY.gfortran-win_amd64.dll\n",
      "  stacklevel=1)\n"
     ]
    }
   ],
   "source": [
    "import numpy as np\n",
    "import pandas as pd\n",
    "import nltk\n",
    "import seaborn as sns\n",
    "import matplotlib.pyplot as plt\n",
    "import tensorflow as tf\n",
    "%matplotlib inline"
   ]
  },
  {
   "cell_type": "code",
   "execution_count": 4,
   "metadata": {
    "scrolled": true
   },
   "outputs": [
    {
     "name": "stderr",
     "output_type": "stream",
     "text": [
      "[nltk_data] Downloading package punkt to\n",
      "[nltk_data]     C:\\Users\\ryans\\AppData\\Roaming\\nltk_data...\n",
      "[nltk_data]   Package punkt is already up-to-date!\n",
      "[nltk_data] Downloading package wordnet to\n",
      "[nltk_data]     C:\\Users\\ryans\\AppData\\Roaming\\nltk_data...\n",
      "[nltk_data]   Package wordnet is already up-to-date!\n",
      "[nltk_data] Downloading package averaged_perceptron_tagger to\n",
      "[nltk_data]     C:\\Users\\ryans\\AppData\\Roaming\\nltk_data...\n",
      "[nltk_data]   Package averaged_perceptron_tagger is already up-to-\n",
      "[nltk_data]       date!\n",
      "[nltk_data] Downloading package words to\n",
      "[nltk_data]     C:\\Users\\ryans\\AppData\\Roaming\\nltk_data...\n",
      "[nltk_data]   Package words is already up-to-date!\n"
     ]
    }
   ],
   "source": [
    "nltk.download('punkt')\n",
    "nltk.download('wordnet')\n",
    "nltk.download('averaged_perceptron_tagger')\n",
    "nltk.download('words')\n",
    "import re"
   ]
  },
  {
   "cell_type": "markdown",
   "metadata": {},
   "source": [
    "# Data"
   ]
  },
  {
   "cell_type": "code",
   "execution_count": 5,
   "metadata": {},
   "outputs": [],
   "source": [
    "labelled_data = pd.read_csv('./tagged1000.csv')\n",
    "unlabelled_data = pd.read_excel('osha.xlsx', names=['id','title','summary','newkeys','report'], header=None)"
   ]
  },
  {
   "cell_type": "code",
   "execution_count": 6,
   "metadata": {
    "scrolled": true
   },
   "outputs": [
    {
     "data": {
      "text/html": [
       "<div>\n",
       "<style scoped>\n",
       "    .dataframe tbody tr th:only-of-type {\n",
       "        vertical-align: middle;\n",
       "    }\n",
       "\n",
       "    .dataframe tbody tr th {\n",
       "        vertical-align: top;\n",
       "    }\n",
       "\n",
       "    .dataframe thead th {\n",
       "        text-align: right;\n",
       "    }\n",
       "</style>\n",
       "<table border=\"1\" class=\"dataframe\">\n",
       "  <thead>\n",
       "    <tr style=\"text-align: right;\">\n",
       "      <th></th>\n",
       "      <th>Unnamed: 0</th>\n",
       "      <th>id</th>\n",
       "      <th>title</th>\n",
       "      <th>Summary2</th>\n",
       "      <th>cause</th>\n",
       "      <th>newkeys</th>\n",
       "      <th>title.new</th>\n",
       "      <th>summary.new</th>\n",
       "      <th>Tagged2</th>\n",
       "    </tr>\n",
       "  </thead>\n",
       "  <tbody>\n",
       "    <tr>\n",
       "      <td>0</td>\n",
       "      <td>0</td>\n",
       "      <td>200361855.0</td>\n",
       "      <td>Two Workers Are Struck By Motor Vehicle And O...</td>\n",
       "      <td>On August 27 2013 Employees #1 and #2 of Templ...</td>\n",
       "      <td>Other</td>\n",
       "      <td>\\nconstruction, undrgrd power line, highway, ...</td>\n",
       "      <td>two workers are struck by motor vehicle and o...</td>\n",
       "      <td>On august 27 2013 employees #1 and #2 of templ...</td>\n",
       "      <td>traffic</td>\n",
       "    </tr>\n",
       "    <tr>\n",
       "      <td>1</td>\n",
       "      <td>1</td>\n",
       "      <td>202673471.0</td>\n",
       "      <td>Foreman Is Fatally Crushed When Forklift Tips...</td>\n",
       "      <td>At approximately 6:30 a.m. on May 13 2013 Empl...</td>\n",
       "      <td>[]</td>\n",
       "      <td>\\nconstruction, equipment operator, industria...</td>\n",
       "      <td>foreman is fatally crushed when forklift tips...</td>\n",
       "      <td>At approximately 6:30 a.m. on may 13 2013 empl...</td>\n",
       "      <td>collapse of object</td>\n",
       "    </tr>\n",
       "    <tr>\n",
       "      <td>2</td>\n",
       "      <td>2</td>\n",
       "      <td>202509832.0</td>\n",
       "      <td>Employee Suffers Abdominal Fracture In Fall F...</td>\n",
       "      <td>On April 9 2013 Employee #1 was installing vin...</td>\n",
       "      <td>Fall from/with ladder</td>\n",
       "      <td>\\ninstalling, ladder, scaffold, structure mov...</td>\n",
       "      <td>employee suffers abdominal fracture in fall f...</td>\n",
       "      <td>On april 9 2013 employee #1 was installing vin...</td>\n",
       "      <td>falls</td>\n",
       "    </tr>\n",
       "    <tr>\n",
       "      <td>3</td>\n",
       "      <td>3</td>\n",
       "      <td>201562840.0</td>\n",
       "      <td>Employee'S Body Is Caught In Asphalt Machine ...</td>\n",
       "      <td>On November 27 2012 Employee #1 was operating ...</td>\n",
       "      <td>Crushed/run</td>\n",
       "      <td>\\nasphalt, machine operator, caught by, cloth...</td>\n",
       "      <td>employee's body is caught in asphalt machine ...</td>\n",
       "      <td>On november 27 2012 employee #1 was operating ...</td>\n",
       "      <td>caught in/between objects</td>\n",
       "    </tr>\n",
       "    <tr>\n",
       "      <td>4</td>\n",
       "      <td>4</td>\n",
       "      <td>202478632.0</td>\n",
       "      <td>Employee Is Punctured In Abdomen With Nail</td>\n",
       "      <td>At approximately 11:57 a.m. on September 28 20...</td>\n",
       "      <td>Other</td>\n",
       "      <td>\\nslip, nail, puncture, abdomen, fall\\n</td>\n",
       "      <td>employee is punctured in abdomen with nail</td>\n",
       "      <td>At approximately 11:57 a.m. on september 28 20...</td>\n",
       "      <td>struck by moving objects</td>\n",
       "    </tr>\n",
       "  </tbody>\n",
       "</table>\n",
       "</div>"
      ],
      "text/plain": [
       "   Unnamed: 0           id                                              title  \\\n",
       "0           0  200361855.0   Two Workers Are Struck By Motor Vehicle And O...   \n",
       "1           1  202673471.0   Foreman Is Fatally Crushed When Forklift Tips...   \n",
       "2           2  202509832.0   Employee Suffers Abdominal Fracture In Fall F...   \n",
       "3           3  201562840.0   Employee'S Body Is Caught In Asphalt Machine ...   \n",
       "4           4  202478632.0        Employee Is Punctured In Abdomen With Nail    \n",
       "\n",
       "                                            Summary2                  cause  \\\n",
       "0  On August 27 2013 Employees #1 and #2 of Templ...                  Other   \n",
       "1  At approximately 6:30 a.m. on May 13 2013 Empl...                     []   \n",
       "2  On April 9 2013 Employee #1 was installing vin...  Fall from/with ladder   \n",
       "3  On November 27 2012 Employee #1 was operating ...            Crushed/run   \n",
       "4  At approximately 11:57 a.m. on September 28 20...                  Other   \n",
       "\n",
       "                                             newkeys  \\\n",
       "0   \\nconstruction, undrgrd power line, highway, ...   \n",
       "1   \\nconstruction, equipment operator, industria...   \n",
       "2   \\ninstalling, ladder, scaffold, structure mov...   \n",
       "3   \\nasphalt, machine operator, caught by, cloth...   \n",
       "4            \\nslip, nail, puncture, abdomen, fall\\n   \n",
       "\n",
       "                                           title.new  \\\n",
       "0   two workers are struck by motor vehicle and o...   \n",
       "1   foreman is fatally crushed when forklift tips...   \n",
       "2   employee suffers abdominal fracture in fall f...   \n",
       "3   employee's body is caught in asphalt machine ...   \n",
       "4        employee is punctured in abdomen with nail    \n",
       "\n",
       "                                         summary.new  \\\n",
       "0  On august 27 2013 employees #1 and #2 of templ...   \n",
       "1  At approximately 6:30 a.m. on may 13 2013 empl...   \n",
       "2  On april 9 2013 employee #1 was installing vin...   \n",
       "3  On november 27 2012 employee #1 was operating ...   \n",
       "4  At approximately 11:57 a.m. on september 28 20...   \n",
       "\n",
       "                     Tagged2  \n",
       "0                    traffic  \n",
       "1         collapse of object  \n",
       "2                      falls  \n",
       "3  caught in/between objects  \n",
       "4   struck by moving objects  "
      ]
     },
     "execution_count": 6,
     "metadata": {},
     "output_type": "execute_result"
    }
   ],
   "source": [
    "labelled_data.head()"
   ]
  },
  {
   "cell_type": "code",
   "execution_count": 7,
   "metadata": {},
   "outputs": [
    {
     "data": {
      "text/html": [
       "<div>\n",
       "<style scoped>\n",
       "    .dataframe tbody tr th:only-of-type {\n",
       "        vertical-align: middle;\n",
       "    }\n",
       "\n",
       "    .dataframe tbody tr th {\n",
       "        vertical-align: top;\n",
       "    }\n",
       "\n",
       "    .dataframe thead th {\n",
       "        text-align: right;\n",
       "    }\n",
       "</style>\n",
       "<table border=\"1\" class=\"dataframe\">\n",
       "  <thead>\n",
       "    <tr style=\"text-align: right;\">\n",
       "      <th></th>\n",
       "      <th>id</th>\n",
       "      <th>title</th>\n",
       "      <th>summary</th>\n",
       "      <th>newkeys</th>\n",
       "      <th>report</th>\n",
       "    </tr>\n",
       "  </thead>\n",
       "  <tbody>\n",
       "    <tr>\n",
       "      <td>0</td>\n",
       "      <td>201079928</td>\n",
       "      <td>Employee Is Burned By Forklift Radiator Fluid</td>\n",
       "      <td>At approximately 11:30 a.m. on November 13  2...</td>\n",
       "      <td>burn  industrial truck  waste proc fac  pa...</td>\n",
       "      <td></td>\n",
       "    </tr>\n",
       "    <tr>\n",
       "      <td>1</td>\n",
       "      <td>202561825</td>\n",
       "      <td>Employee Falls From Flatbed Trailer And Later...</td>\n",
       "      <td>On August 30  2013  Employee #1 was working f...</td>\n",
       "      <td>truck  flatbed truck  trailer  fall  abdomen</td>\n",
       "      <td></td>\n",
       "    </tr>\n",
       "    <tr>\n",
       "      <td>2</td>\n",
       "      <td>200361855</td>\n",
       "      <td>Two Workers Are Struck By Motor Vehicle And O...</td>\n",
       "      <td>On August 27  2013  Employees #1 and #2  of T...</td>\n",
       "      <td>construction  undrgrd power line  highway ...</td>\n",
       "      <td>1 317290559   Fatality Other Occupation not re...</td>\n",
       "    </tr>\n",
       "    <tr>\n",
       "      <td>3</td>\n",
       "      <td>200361863</td>\n",
       "      <td>Employee Is Struck By Bales Of Wire And Killed</td>\n",
       "      <td>On August 26  2013  Employee #1  with Lee Iro...</td>\n",
       "      <td>waste proc fac  industrial truck  struck b...</td>\n",
       "      <td></td>\n",
       "    </tr>\n",
       "    <tr>\n",
       "      <td>4</td>\n",
       "      <td>201079324</td>\n",
       "      <td>Employee Is Splashed With Hot Water And Is Bu...</td>\n",
       "      <td>On July 14  2013  Employee #1  vacuum pump tr...</td>\n",
       "      <td>truck driver  pump  tank  hot water  struc...</td>\n",
       "      <td></td>\n",
       "    </tr>\n",
       "  </tbody>\n",
       "</table>\n",
       "</div>"
      ],
      "text/plain": [
       "          id                                              title  \\\n",
       "0  201079928     Employee Is Burned By Forklift Radiator Fluid    \n",
       "1  202561825   Employee Falls From Flatbed Trailer And Later...   \n",
       "2  200361855   Two Workers Are Struck By Motor Vehicle And O...   \n",
       "3  200361863    Employee Is Struck By Bales Of Wire And Killed    \n",
       "4  201079324   Employee Is Splashed With Hot Water And Is Bu...   \n",
       "\n",
       "                                             summary  \\\n",
       "0   At approximately 11:30 a.m. on November 13  2...   \n",
       "1   On August 30  2013  Employee #1 was working f...   \n",
       "2   On August 27  2013  Employees #1 and #2  of T...   \n",
       "3   On August 26  2013  Employee #1  with Lee Iro...   \n",
       "4   On July 14  2013  Employee #1  vacuum pump tr...   \n",
       "\n",
       "                                             newkeys  \\\n",
       "0      burn  industrial truck  waste proc fac  pa...   \n",
       "1      truck  flatbed truck  trailer  fall  abdomen    \n",
       "2      construction  undrgrd power line  highway ...   \n",
       "3      waste proc fac  industrial truck  struck b...   \n",
       "4      truck driver  pump  tank  hot water  struc...   \n",
       "\n",
       "                                              report  \n",
       "0                                                     \n",
       "1                                                     \n",
       "2  1 317290559   Fatality Other Occupation not re...  \n",
       "3                                                     \n",
       "4                                                     "
      ]
     },
     "execution_count": 7,
     "metadata": {},
     "output_type": "execute_result"
    }
   ],
   "source": [
    "unlabelled_data.head()"
   ]
  },
  {
   "cell_type": "markdown",
   "metadata": {},
   "source": [
    "# Preprocessing-1"
   ]
  },
  {
   "cell_type": "code",
   "execution_count": 8,
   "metadata": {},
   "outputs": [],
   "source": [
    "# lowered summary sentences\n",
    "lsumm = labelled_data.Summary2.str.lower()\n",
    "ulsumm = unlabelled_data.summary.str.lower()"
   ]
  },
  {
   "cell_type": "code",
   "execution_count": 9,
   "metadata": {},
   "outputs": [],
   "source": [
    "# tokensized sentences\n",
    "lsumm_tokens = lsumm.apply(nltk.word_tokenize)\n",
    "ulsumm_tokens = ulsumm.apply(nltk.word_tokenize)"
   ]
  },
  {
   "cell_type": "code",
   "execution_count": 10,
   "metadata": {},
   "outputs": [],
   "source": [
    "from nltk.corpus import stopwords"
   ]
  },
  {
   "cell_type": "code",
   "execution_count": 11,
   "metadata": {},
   "outputs": [],
   "source": [
    "# removed stop words\n",
    "stop_words = set(stopwords.words('english'))\n",
    "\n",
    "lsumm_tokens = lsumm_tokens.apply(lambda d: [w for w in d if not w in stop_words])\n",
    "ulsumm_tokens = ulsumm_tokens.apply(lambda d: [w for w in d if not w in stop_words])"
   ]
  },
  {
   "cell_type": "markdown",
   "metadata": {},
   "source": [
    "# Word Embeddings"
   ]
  },
  {
   "cell_type": "code",
   "execution_count": 12,
   "metadata": {},
   "outputs": [],
   "source": [
    "# Importing word embeddings and Creating Embedding Matrix\n",
    "embedding_dict = {}\n",
    "with open('glove.6B.300d.txt', 'r', encoding='utf-8') as f:\n",
    "    for line in f:\n",
    "        values = line.split()\n",
    "        embedding_dict[values[0]] = np.asarray(values[1:], dtype=np.float32)"
   ]
  },
  {
   "cell_type": "code",
   "execution_count": 13,
   "metadata": {},
   "outputs": [
    {
     "name": "stderr",
     "output_type": "stream",
     "text": [
      "[nltk_data] Downloading package udhr to\n",
      "[nltk_data]     C:\\Users\\ryans\\AppData\\Roaming\\nltk_data...\n",
      "[nltk_data]   Package udhr is already up-to-date!\n",
      "[nltk_data] Downloading package treebank to\n",
      "[nltk_data]     C:\\Users\\ryans\\AppData\\Roaming\\nltk_data...\n",
      "[nltk_data]   Package treebank is already up-to-date!\n",
      "[nltk_data] Downloading package large_grammars to\n",
      "[nltk_data]     C:\\Users\\ryans\\AppData\\Roaming\\nltk_data...\n",
      "[nltk_data]   Package large_grammars is already up-to-date!\n"
     ]
    },
    {
     "data": {
      "text/plain": [
       "True"
      ]
     },
     "execution_count": 13,
     "metadata": {},
     "output_type": "execute_result"
    }
   ],
   "source": [
    "from sklearn.feature_extraction.text import TfidfVectorizer,CountVectorizer,HashingVectorizer\n",
    "from scipy import spatial\n",
    "from sklearn.manifold import TSNE\n",
    "from sklearn.decomposition import PCA\n",
    "nltk.download('udhr')\n",
    "nltk.download('treebank')\n",
    "nltk.download('large_grammars')"
   ]
  },
  {
   "cell_type": "code",
   "execution_count": 14,
   "metadata": {},
   "outputs": [],
   "source": [
    "# for checking functioning of word embeddings by finding closest embedding\n",
    "def find_closest_embedding(embedding):\n",
    "    return sorted(embedding_dict.keys(), key=lambda word: spatial.distance.euclidean(embedding_dict[word], embedding))\n",
    "#it sorts the word embedding matrix w.r.t the spatial euclidean distance and returns the closest one"
   ]
  },
  {
   "cell_type": "code",
   "execution_count": 15,
   "metadata": {},
   "outputs": [
    {
     "name": "stdout",
     "output_type": "stream",
     "text": [
      "['twig', 'hand', 'cupping', 'fingers', 'paddles']\n"
     ]
    }
   ],
   "source": [
    "print(find_closest_embedding(\n",
    "    embedding_dict[\"twig\"] - embedding_dict[\"branch\"] + embedding_dict[\"hand\"])[:5])"
   ]
  },
  {
   "cell_type": "code",
   "execution_count": 16,
   "metadata": {},
   "outputs": [],
   "source": [
    "# Visualizing embeddings using TSNE for dimensionality recognition\n",
    "tsne = TSNE(n_components=2, random_state=0)"
   ]
  },
  {
   "cell_type": "code",
   "execution_count": 17,
   "metadata": {},
   "outputs": [],
   "source": [
    "words = list(embedding_dict.keys())\n",
    "vectors = [embedding_dict[word] for word in words]"
   ]
  },
  {
   "cell_type": "code",
   "execution_count": 18,
   "metadata": {},
   "outputs": [],
   "source": [
    "Y = tsne.fit_transform(vectors[:100])"
   ]
  },
  {
   "cell_type": "code",
   "execution_count": 19,
   "metadata": {},
   "outputs": [
    {
     "name": "stderr",
     "output_type": "stream",
     "text": [
      "C:\\Users\\ryans\\Anaconda3\\lib\\site-packages\\ipykernel_launcher.py:3: UserWarning: You have used the `textcoords` kwarg, but not the `xytext` kwarg.  This can lead to surprising results.\n",
      "  This is separate from the ipykernel package so we can avoid doing imports until\n"
     ]
    },
    {
     "data": {
      "image/png": "[encoded data removed]",
      "text/plain": [
       "<Figure size 432x288 with 1 Axes>"
      ]
     },
     "metadata": {
      "needs_background": "light"
     },
     "output_type": "display_data"
    }
   ],
   "source": [
    "plt.scatter(Y[:,0],Y[:,1])\n",
    "for label,x,y in zip(words, Y[:,0], Y[:,1]):\n",
    "    plt.annotate(label, xy=(x,y), textcoords='offset points')"
   ]
  },
  {
   "cell_type": "code",
   "execution_count": 20,
   "metadata": {},
   "outputs": [],
   "source": [
    "# Visualizing embeddings using PCA \n",
    "#used for high dimensional and has it's use cases for dimensionality reduction cases\n",
    "pca = PCA(n_components=2, random_state=0)"
   ]
  },
  {
   "cell_type": "code",
   "execution_count": 21,
   "metadata": {},
   "outputs": [],
   "source": [
    "y = pca.fit_transform(vectors[:20])"
   ]
  },
  {
   "cell_type": "code",
   "execution_count": 22,
   "metadata": {},
   "outputs": [
    {
     "name": "stderr",
     "output_type": "stream",
     "text": [
      "C:\\Users\\ryans\\Anaconda3\\lib\\site-packages\\ipykernel_launcher.py:3: UserWarning: You have used the `textcoords` kwarg, but not the `xytext` kwarg.  This can lead to surprising results.\n",
      "  This is separate from the ipykernel package so we can avoid doing imports until\n"
     ]
    },
    {
     "data": {
      "image/png": "[encoded data removed]",
      "text/plain": [
       "<Figure size 432x288 with 1 Axes>"
      ]
     },
     "metadata": {
      "needs_background": "light"
     },
     "output_type": "display_data"
    }
   ],
   "source": [
    "plt.scatter(y[:,0],y[:,1])\n",
    "for label,x,y1 in zip(words, y[:,0], y[:,1]):\n",
    "    plt.annotate(label, xy=(x,y1), textcoords='offset points')"
   ]
  },
  {
   "cell_type": "markdown",
   "metadata": {},
   "source": [
    "# Preprocessing-2"
   ]
  },
  {
   "cell_type": "code",
   "execution_count": 23,
   "metadata": {},
   "outputs": [],
   "source": [
    "# Removing all non alphabet characters\n",
    "ulsumm_tokens = ulsumm_tokens.apply(lambda d: [w for w in d if w.isalpha()])"
   ]
  },
  {
   "cell_type": "code",
   "execution_count": 24,
   "metadata": {},
   "outputs": [],
   "source": [
    "# Pos tagging\n",
    "lsumm_pos = lsumm_tokens.apply(nltk.pos_tag)\n",
    "ulsumm_pos = ulsumm_tokens.apply(nltk.pos_tag)"
   ]
  },
  {
   "cell_type": "code",
   "execution_count": 25,
   "metadata": {},
   "outputs": [],
   "source": [
    "lsumm_pos = lsumm_pos.apply(lambda d: [w for w in d if w[0].isalpha()])"
   ]
  },
  {
   "cell_type": "code",
   "execution_count": 26,
   "metadata": {},
   "outputs": [],
   "source": [
    "udhr = nltk.corpus.udhr.words('English-Latin1')"
   ]
  },
  {
   "cell_type": "code",
   "execution_count": 27,
   "metadata": {},
   "outputs": [],
   "source": [
    "WNlemma = nltk.WordNetLemmatizer()"
   ]
  },
  {
   "cell_type": "code",
   "execution_count": 28,
   "metadata": {},
   "outputs": [],
   "source": [
    "# Lemmatizing\n",
    "lsumm_pos_lem = lsumm_pos.apply(lambda d: [(WNlemma.lemmatize(w[0]), w[1]) for w in d]) \n",
    "ulsumm_pos_lem = ulsumm_pos.apply(lambda d: [(WNlemma.lemmatize(w[0]), w[1]) for w in d])"
   ]
  },
  {
   "cell_type": "code",
   "execution_count": 29,
   "metadata": {},
   "outputs": [],
   "source": [
    "# Combining words with pos tags\n",
    "def concat(d):\n",
    "    free=[]\n",
    "    for w in d:\n",
    "        free.append(w[0]+'/'+w[1])\n",
    "    return free\n",
    "lsumm_final = lsumm_pos_lem.apply(concat)\n",
    "ulsumm_final = ulsumm_pos_lem.apply(concat)"
   ]
  },
  {
   "cell_type": "code",
   "execution_count": 30,
   "metadata": {},
   "outputs": [],
   "source": [
    "# Finally combing words in sentences for training\n",
    "def words2sent(d):\n",
    "    sent = ' '.join([w[0] for w in d])\n",
    "    return sent\n",
    "lsents_final = lsumm_pos_lem.apply(words2sent)\n",
    "usents_final = ulsumm_pos_lem.apply(words2sent)"
   ]
  },
  {
   "cell_type": "code",
   "execution_count": 31,
   "metadata": {},
   "outputs": [],
   "source": [
    "from sklearn.feature_extraction.text import CountVectorizer,TfidfVectorizer\n",
    "from tensorflow.keras.preprocessing import text, sequence"
   ]
  },
  {
   "cell_type": "code",
   "execution_count": 32,
   "metadata": {},
   "outputs": [],
   "source": [
    "# Indexing words\n",
    "token1 = text.Tokenizer()\n",
    "token1.fit_on_texts(lsents_final)\n",
    "word_index1 = token1.word_index"
   ]
  },
  {
   "cell_type": "code",
   "execution_count": 33,
   "metadata": {},
   "outputs": [],
   "source": [
    "token2 = text.Tokenizer()\n",
    "token2.fit_on_texts(usents_final)\n",
    "word_index2 = token2.word_index"
   ]
  },
  {
   "cell_type": "code",
   "execution_count": 34,
   "metadata": {},
   "outputs": [
    {
     "name": "stdout",
     "output_type": "stream",
     "text": [
      "labelled data words: 5651\n",
      "ulabelled data words: 20269\n"
     ]
    }
   ],
   "source": [
    "print('labelled data words:',format(len(word_index1)))\n",
    "print('ulabelled data words:',format(len(word_index2)))"
   ]
  },
  {
   "cell_type": "code",
   "execution_count": 35,
   "metadata": {},
   "outputs": [
    {
     "data": {
      "text/plain": [
       "63"
      ]
     },
     "execution_count": 35,
     "metadata": {},
     "output_type": "execute_result"
    }
   ],
   "source": [
    "len(nltk.word_tokenize(lsents_final[0]))"
   ]
  },
  {
   "cell_type": "code",
   "execution_count": 36,
   "metadata": {},
   "outputs": [
    {
     "data": {
      "text/plain": [
       "16111"
      ]
     },
     "execution_count": 36,
     "metadata": {},
     "output_type": "execute_result"
    }
   ],
   "source": [
    "k = usents_final.str.split()\n",
    "k = k.str.len()\n",
    "len(k[k<200])"
   ]
  },
  {
   "cell_type": "code",
   "execution_count": 37,
   "metadata": {},
   "outputs": [
    {
     "data": {
      "text/plain": [
       "368"
      ]
     },
     "execution_count": 37,
     "metadata": {},
     "output_type": "execute_result"
    }
   ],
   "source": [
    "k = usents_final.str.split()\n",
    "max(k.str.len()) # length of largest final sentence"
   ]
  },
  {
   "cell_type": "code",
   "execution_count": 38,
   "metadata": {},
   "outputs": [],
   "source": [
    "# Text to sequences\n",
    "# We should use unlabelled word index for texts_to_sequences as they contain large set of words.\n",
    "# Every same word in both labelled and unlabelled final sentences should have same index that \n",
    "# is why for both texts to sequences token2 tokenizer used. \n",
    "utrain_seq = sequence.pad_sequences(token2.texts_to_sequences(usents_final), padding='post', maxlen=200)\n",
    "ltrain_seq = sequence.pad_sequences(token2.texts_to_sequences(lsents_final), padding='post', maxlen=200)"
   ]
  },
  {
   "cell_type": "code",
   "execution_count": 39,
   "metadata": {},
   "outputs": [
    {
     "name": "stdout",
     "output_type": "stream",
     "text": [
      "(1050, 200)\n",
      "(16323, 200)\n"
     ]
    }
   ],
   "source": [
    "# Same length for all sequences 368\n",
    "print(ltrain_seq.shape)\n",
    "print(utrain_seq.shape)"
   ]
  },
  {
   "cell_type": "markdown",
   "metadata": {},
   "source": [
    "# Creating Embedding Matrix with preprocessed data"
   ]
  },
  {
   "cell_type": "code",
   "execution_count": 40,
   "metadata": {},
   "outputs": [],
   "source": [
    "embedding_matrix = np.zeros((len(word_index2)+1, 300))\n",
    "for word,i in word_index2.items():\n",
    "    embedding_vec = embedding_dict.get(word)\n",
    "    if embedding_vec is not None:\n",
    "        embedding_matrix[i] = embedding_vec"
   ]
  },
  {
   "cell_type": "code",
   "execution_count": 41,
   "metadata": {},
   "outputs": [
    {
     "data": {
      "text/plain": [
       "(20270, 300)"
      ]
     },
     "execution_count": 41,
     "metadata": {},
     "output_type": "execute_result"
    }
   ],
   "source": [
    "embedding_matrix.shape"
   ]
  },
  {
   "cell_type": "markdown",
   "metadata": {},
   "source": [
    "# Extracting noun and verb phrases from title"
   ]
  },
  {
   "cell_type": "code",
   "execution_count": 42,
   "metadata": {},
   "outputs": [],
   "source": [
    "ltitle = labelled_data.title.str.lower()\n",
    "ltitle_tokens = ltitle.apply(lambda d: nltk.word_tokenize(str(d)))"
   ]
  },
  {
   "cell_type": "code",
   "execution_count": 43,
   "metadata": {},
   "outputs": [],
   "source": [
    "ultitle = unlabelled_data.title.str.lower()"
   ]
  },
  {
   "cell_type": "code",
   "execution_count": 44,
   "metadata": {},
   "outputs": [],
   "source": [
    "ltitle_pos = ltitle_tokens.apply(lambda d: nltk.pos_tag(d))"
   ]
  },
  {
   "cell_type": "code",
   "execution_count": 45,
   "metadata": {},
   "outputs": [
    {
     "name": "stdout",
     "output_type": "stream",
     "text": [
      "Requirement already satisfied: textblob in c:\\users\\ryans\\anaconda3\\lib\\site-packages (0.15.3)\n",
      "Requirement already satisfied: nltk>=3.1 in c:\\users\\ryans\\anaconda3\\lib\\site-packages (from textblob) (3.4.5)\n",
      "Requirement already satisfied: six in c:\\users\\ryans\\anaconda3\\lib\\site-packages (from nltk>=3.1->textblob) (1.14.0)\n",
      "Note: you may need to restart the kernel to use updated packages.\n"
     ]
    },
    {
     "name": "stderr",
     "output_type": "stream",
     "text": [
      "Error processing line 1 of C:\\Users\\ryans\\Anaconda3\\lib\\site-packages\\vision-1.0.0-py3.7-nspkg.pth:\n",
      "\n",
      "  Traceback (most recent call last):\n",
      "    File \"C:\\Users\\ryans\\Anaconda3\\lib\\site.py\", line 168, in addpackage\n",
      "      exec(line)\n",
      "    File \"<string>\", line 1, in <module>\n",
      "    File \"<frozen importlib._bootstrap>\", line 580, in module_from_spec\n",
      "  AttributeError: 'NoneType' object has no attribute 'loader'\n",
      "\n",
      "Remainder of file ignored\n"
     ]
    }
   ],
   "source": [
    "pip install textblob\n"
   ]
  },
  {
   "cell_type": "code",
   "execution_count": 46,
   "metadata": {},
   "outputs": [
    {
     "name": "stdout",
     "output_type": "stream",
     "text": [
      "Requirement already satisfied: textacy in c:\\users\\ryans\\anaconda3\\lib\\site-packages (0.10.1)\n",
      "Requirement already satisfied: networkx>=2.0 in c:\\users\\ryans\\anaconda3\\lib\\site-packages (from textacy) (2.3)\n",
      "Requirement already satisfied: requests>=2.10.0 in c:\\users\\ryans\\anaconda3\\lib\\site-packages (from textacy) (2.22.0)\n",
      "Requirement already satisfied: tqdm>=4.19.6 in c:\\users\\ryans\\anaconda3\\lib\\site-packages (from textacy) (4.48.2)\n",
      "Requirement already satisfied: jellyfish>=0.7.0 in c:\\users\\ryans\\anaconda3\\lib\\site-packages (from textacy) (0.8.2)\n",
      "Requirement already satisfied: joblib>=0.13.0 in c:\\users\\ryans\\anaconda3\\lib\\site-packages (from textacy) (0.13.2)\n",
      "Requirement already satisfied: scipy>=0.17.0 in c:\\users\\ryans\\anaconda3\\lib\\site-packages (from textacy) (1.4.1)\n",
      "Requirement already satisfied: scikit-learn<0.24.0,>=0.19.0 in c:\\users\\ryans\\anaconda3\\lib\\site-packages (from textacy) (0.21.3)\n",
      "Requirement already satisfied: srsly>=0.0.5 in c:\\users\\ryans\\anaconda3\\lib\\site-packages (from textacy) (1.0.2)\n",
      "Requirement already satisfied: numpy>=1.17.0 in c:\\users\\ryans\\anaconda3\\lib\\site-packages (from textacy) (1.19.1)\n",
      "Requirement already satisfied: pyemd>=0.5.0 in c:\\users\\ryans\\anaconda3\\lib\\site-packages (from textacy) (0.5.1)\n",
      "Requirement already satisfied: spacy<3.0.0,>=2.2.0 in c:\\users\\ryans\\anaconda3\\lib\\site-packages (from textacy) (2.3.2)\n",
      "Requirement already satisfied: cachetools>=2.0.1 in c:\\users\\ryans\\anaconda3\\lib\\site-packages (from textacy) (4.1.0)\n",
      "Requirement already satisfied: pyphen>=0.9.4 in c:\\users\\ryans\\anaconda3\\lib\\site-packages (from textacy) (0.9.5)\n",
      "Requirement already satisfied: cytoolz>=0.8.0 in c:\\users\\ryans\\anaconda3\\lib\\site-packages (from textacy) (0.10.0)\n",
      "Requirement already satisfied: decorator>=4.3.0 in c:\\users\\ryans\\anaconda3\\lib\\site-packages (from networkx>=2.0->textacy) (4.4.0)\n",
      "Requirement already satisfied: idna<2.9,>=2.5 in c:\\users\\ryans\\anaconda3\\lib\\site-packages (from requests>=2.10.0->textacy) (2.8)\n",
      "Requirement already satisfied: certifi>=2017.4.17 in c:\\users\\ryans\\anaconda3\\lib\\site-packages (from requests>=2.10.0->textacy) (2019.9.11)\n",
      "Requirement already satisfied: urllib3!=1.25.0,!=1.25.1,<1.26,>=1.21.1 in c:\\users\\ryans\\anaconda3\\lib\\site-packages (from requests>=2.10.0->textacy) (1.24.2)\n",
      "Requirement already satisfied: chardet<3.1.0,>=3.0.2 in c:\\users\\ryans\\anaconda3\\lib\\site-packages (from requests>=2.10.0->textacy) (3.0.4)\n",
      "Requirement already satisfied: catalogue<1.1.0,>=0.0.7 in c:\\users\\ryans\\anaconda3\\lib\\site-packages (from spacy<3.0.0,>=2.2.0->textacy) (1.0.0)\n",
      "Requirement already satisfied: blis<0.5.0,>=0.4.0 in c:\\users\\ryans\\anaconda3\\lib\\site-packages (from spacy<3.0.0,>=2.2.0->textacy) (0.4.1)\n",
      "Requirement already satisfied: wasabi<1.1.0,>=0.4.0 in c:\\users\\ryans\\anaconda3\\lib\\site-packages (from spacy<3.0.0,>=2.2.0->textacy) (0.8.0)\n",
      "Requirement already satisfied: thinc==7.4.1 in c:\\users\\ryans\\anaconda3\\lib\\site-packages (from spacy<3.0.0,>=2.2.0->textacy) (7.4.1)\n",
      "Requirement already satisfied: cymem<2.1.0,>=2.0.2 in c:\\users\\ryans\\anaconda3\\lib\\site-packages (from spacy<3.0.0,>=2.2.0->textacy) (2.0.3)\n",
      "Requirement already satisfied: murmurhash<1.1.0,>=0.28.0 in c:\\users\\ryans\\anaconda3\\lib\\site-packages (from spacy<3.0.0,>=2.2.0->textacy) (1.0.2)\n",
      "Requirement already satisfied: setuptools in c:\\users\\ryans\\anaconda3\\lib\\site-packages (from spacy<3.0.0,>=2.2.0->textacy) (46.1.3)\n",
      "Requirement already satisfied: plac<1.2.0,>=0.9.6 in c:\\users\\ryans\\anaconda3\\lib\\site-packages (from spacy<3.0.0,>=2.2.0->textacy) (1.1.3)\n",
      "Requirement already satisfied: preshed<3.1.0,>=3.0.2 in c:\\users\\ryans\\anaconda3\\lib\\site-packages (from spacy<3.0.0,>=2.2.0->textacy) (3.0.2)\n",
      "Requirement already satisfied: toolz>=0.8.0 in c:\\users\\ryans\\anaconda3\\lib\\site-packages (from cytoolz>=0.8.0->textacy) (0.10.0)\n",
      "Requirement already satisfied: importlib-metadata>=0.20; python_version < \"3.8\" in c:\\users\\ryans\\anaconda3\\lib\\site-packages (from catalogue<1.1.0,>=0.0.7->spacy<3.0.0,>=2.2.0->textacy) (0.23)\n",
      "Requirement already satisfied: zipp>=0.5 in c:\\users\\ryans\\anaconda3\\lib\\site-packages (from importlib-metadata>=0.20; python_version < \"3.8\"->catalogue<1.1.0,>=0.0.7->spacy<3.0.0,>=2.2.0->textacy) (0.6.0)\n",
      "Requirement already satisfied: more-itertools in c:\\users\\ryans\\anaconda3\\lib\\site-packages (from zipp>=0.5->importlib-metadata>=0.20; python_version < \"3.8\"->catalogue<1.1.0,>=0.0.7->spacy<3.0.0,>=2.2.0->textacy) (7.2.0)\n",
      "Note: you may need to restart the kernel to use updated packages.\n"
     ]
    },
    {
     "name": "stderr",
     "output_type": "stream",
     "text": [
      "Error processing line 1 of C:\\Users\\ryans\\Anaconda3\\lib\\site-packages\\vision-1.0.0-py3.7-nspkg.pth:\n",
      "\n",
      "  Traceback (most recent call last):\n",
      "    File \"C:\\Users\\ryans\\Anaconda3\\lib\\site.py\", line 168, in addpackage\n",
      "      exec(line)\n",
      "    File \"<string>\", line 1, in <module>\n",
      "    File \"<frozen importlib._bootstrap>\", line 580, in module_from_spec\n",
      "  AttributeError: 'NoneType' object has no attribute 'loader'\n",
      "\n",
      "Remainder of file ignored\n"
     ]
    }
   ],
   "source": [
    "pip install textacy"
   ]
  },
  {
   "cell_type": "code",
   "execution_count": 47,
   "metadata": {},
   "outputs": [
    {
     "name": "stdout",
     "output_type": "stream",
     "text": [
      "Requirement already satisfied: en_core_web_sm in c:\\users\\ryans\\anaconda3\\lib\\site-packages (2.2.0)\n",
      "Requirement already satisfied: spacy>=2.2.0 in c:\\users\\ryans\\anaconda3\\lib\\site-packages (from en_core_web_sm) (2.3.2)\n",
      "Requirement already satisfied: murmurhash<1.1.0,>=0.28.0 in c:\\users\\ryans\\anaconda3\\lib\\site-packages (from spacy>=2.2.0->en_core_web_sm) (1.0.2)\n",
      "Requirement already satisfied: blis<0.5.0,>=0.4.0 in c:\\users\\ryans\\anaconda3\\lib\\site-packages (from spacy>=2.2.0->en_core_web_sm) (0.4.1)\n",
      "Requirement already satisfied: wasabi<1.1.0,>=0.4.0 in c:\\users\\ryans\\anaconda3\\lib\\site-packages (from spacy>=2.2.0->en_core_web_sm) (0.8.0)\n",
      "Requirement already satisfied: numpy>=1.15.0 in c:\\users\\ryans\\anaconda3\\lib\\site-packages (from spacy>=2.2.0->en_core_web_sm) (1.19.1)\n",
      "Requirement already satisfied: thinc==7.4.1 in c:\\users\\ryans\\anaconda3\\lib\\site-packages (from spacy>=2.2.0->en_core_web_sm) (7.4.1)\n",
      "Requirement already satisfied: tqdm<5.0.0,>=4.38.0 in c:\\users\\ryans\\anaconda3\\lib\\site-packages (from spacy>=2.2.0->en_core_web_sm) (4.48.2)\n",
      "Requirement already satisfied: setuptools in c:\\users\\ryans\\anaconda3\\lib\\site-packages (from spacy>=2.2.0->en_core_web_sm) (46.1.3)\n",
      "Requirement already satisfied: preshed<3.1.0,>=3.0.2 in c:\\users\\ryans\\anaconda3\\lib\\site-packages (from spacy>=2.2.0->en_core_web_sm) (3.0.2)\n",
      "Requirement already satisfied: catalogue<1.1.0,>=0.0.7 in c:\\users\\ryans\\anaconda3\\lib\\site-packages (from spacy>=2.2.0->en_core_web_sm) (1.0.0)\n",
      "Requirement already satisfied: plac<1.2.0,>=0.9.6 in c:\\users\\ryans\\anaconda3\\lib\\site-packages (from spacy>=2.2.0->en_core_web_sm) (1.1.3)\n",
      "Requirement already satisfied: cymem<2.1.0,>=2.0.2 in c:\\users\\ryans\\anaconda3\\lib\\site-packages (from spacy>=2.2.0->en_core_web_sm) (2.0.3)\n",
      "Requirement already satisfied: srsly<1.1.0,>=1.0.2 in c:\\users\\ryans\\anaconda3\\lib\\site-packages (from spacy>=2.2.0->en_core_web_sm) (1.0.2)\n",
      "Requirement already satisfied: requests<3.0.0,>=2.13.0 in c:\\users\\ryans\\anaconda3\\lib\\site-packages (from spacy>=2.2.0->en_core_web_sm) (2.22.0)\n",
      "Requirement already satisfied: importlib-metadata>=0.20; python_version < \"3.8\" in c:\\users\\ryans\\anaconda3\\lib\\site-packages (from catalogue<1.1.0,>=0.0.7->spacy>=2.2.0->en_core_web_sm) (0.23)\n",
      "Requirement already satisfied: chardet<3.1.0,>=3.0.2 in c:\\users\\ryans\\anaconda3\\lib\\site-packages (from requests<3.0.0,>=2.13.0->spacy>=2.2.0->en_core_web_sm) (3.0.4)\n",
      "Requirement already satisfied: idna<2.9,>=2.5 in c:\\users\\ryans\\anaconda3\\lib\\site-packages (from requests<3.0.0,>=2.13.0->spacy>=2.2.0->en_core_web_sm) (2.8)\n",
      "Requirement already satisfied: certifi>=2017.4.17 in c:\\users\\ryans\\anaconda3\\lib\\site-packages (from requests<3.0.0,>=2.13.0->spacy>=2.2.0->en_core_web_sm) (2019.9.11)\n",
      "Requirement already satisfied: urllib3!=1.25.0,!=1.25.1,<1.26,>=1.21.1 in c:\\users\\ryans\\anaconda3\\lib\\site-packages (from requests<3.0.0,>=2.13.0->spacy>=2.2.0->en_core_web_sm) (1.24.2)\n",
      "Requirement already satisfied: zipp>=0.5 in c:\\users\\ryans\\anaconda3\\lib\\site-packages (from importlib-metadata>=0.20; python_version < \"3.8\"->catalogue<1.1.0,>=0.0.7->spacy>=2.2.0->en_core_web_sm) (0.6.0)\n",
      "Requirement already satisfied: more-itertools in c:\\users\\ryans\\anaconda3\\lib\\site-packages (from zipp>=0.5->importlib-metadata>=0.20; python_version < \"3.8\"->catalogue<1.1.0,>=0.0.7->spacy>=2.2.0->en_core_web_sm) (7.2.0)\n",
      "Note: you may need to restart the kernel to use updated packages.\n"
     ]
    },
    {
     "name": "stderr",
     "output_type": "stream",
     "text": [
      "Error processing line 1 of C:\\Users\\ryans\\Anaconda3\\lib\\site-packages\\vision-1.0.0-py3.7-nspkg.pth:\n",
      "\n",
      "  Traceback (most recent call last):\n",
      "    File \"C:\\Users\\ryans\\Anaconda3\\lib\\site.py\", line 168, in addpackage\n",
      "      exec(line)\n",
      "    File \"<string>\", line 1, in <module>\n",
      "    File \"<frozen importlib._bootstrap>\", line 580, in module_from_spec\n",
      "  AttributeError: 'NoneType' object has no attribute 'loader'\n",
      "\n",
      "Remainder of file ignored\n"
     ]
    }
   ],
   "source": [
    "pip install en_core_web_sm"
   ]
  },
  {
   "cell_type": "code",
   "execution_count": 48,
   "metadata": {},
   "outputs": [
    {
     "name": "stdout",
     "output_type": "stream",
     "text": [
      "Requirement already satisfied: en_core_web_sm in c:\\users\\ryans\\anaconda3\\lib\\site-packages (2.2.0)\n",
      "Requirement already satisfied: spacy>=2.2.0 in c:\\users\\ryans\\anaconda3\\lib\\site-packages (from en_core_web_sm) (2.3.2)\n",
      "Requirement already satisfied: numpy>=1.15.0 in c:\\users\\ryans\\anaconda3\\lib\\site-packages (from spacy>=2.2.0->en_core_web_sm) (1.19.1)\n",
      "Requirement already satisfied: plac<1.2.0,>=0.9.6 in c:\\users\\ryans\\anaconda3\\lib\\site-packages (from spacy>=2.2.0->en_core_web_sm) (1.1.3)\n",
      "Requirement already satisfied: requests<3.0.0,>=2.13.0 in c:\\users\\ryans\\anaconda3\\lib\\site-packages (from spacy>=2.2.0->en_core_web_sm) (2.22.0)\n",
      "Requirement already satisfied: blis<0.5.0,>=0.4.0 in c:\\users\\ryans\\anaconda3\\lib\\site-packages (from spacy>=2.2.0->en_core_web_sm) (0.4.1)\n",
      "Requirement already satisfied: setuptools in c:\\users\\ryans\\anaconda3\\lib\\site-packages (from spacy>=2.2.0->en_core_web_sm) (46.1.3)\n",
      "Requirement already satisfied: cymem<2.1.0,>=2.0.2 in c:\\users\\ryans\\anaconda3\\lib\\site-packages (from spacy>=2.2.0->en_core_web_sm) (2.0.3)\n",
      "Requirement already satisfied: murmurhash<1.1.0,>=0.28.0 in c:\\users\\ryans\\anaconda3\\lib\\site-packages (from spacy>=2.2.0->en_core_web_sm) (1.0.2)\n",
      "Requirement already satisfied: thinc==7.4.1 in c:\\users\\ryans\\anaconda3\\lib\\site-packages (from spacy>=2.2.0->en_core_web_sm) (7.4.1)\n",
      "Requirement already satisfied: srsly<1.1.0,>=1.0.2 in c:\\users\\ryans\\anaconda3\\lib\\site-packages (from spacy>=2.2.0->en_core_web_sm) (1.0.2)\n",
      "Requirement already satisfied: catalogue<1.1.0,>=0.0.7 in c:\\users\\ryans\\anaconda3\\lib\\site-packages (from spacy>=2.2.0->en_core_web_sm) (1.0.0)\n",
      "Requirement already satisfied: tqdm<5.0.0,>=4.38.0 in c:\\users\\ryans\\anaconda3\\lib\\site-packages (from spacy>=2.2.0->en_core_web_sm) (4.48.2)\n",
      "Requirement already satisfied: preshed<3.1.0,>=3.0.2 in c:\\users\\ryans\\anaconda3\\lib\\site-packages (from spacy>=2.2.0->en_core_web_sm) (3.0.2)\n",
      "Requirement already satisfied: wasabi<1.1.0,>=0.4.0 in c:\\users\\ryans\\anaconda3\\lib\\site-packages (from spacy>=2.2.0->en_core_web_sm) (0.8.0)\n",
      "Requirement already satisfied: certifi>=2017.4.17 in c:\\users\\ryans\\anaconda3\\lib\\site-packages (from requests<3.0.0,>=2.13.0->spacy>=2.2.0->en_core_web_sm) (2019.9.11)\n",
      "Requirement already satisfied: chardet<3.1.0,>=3.0.2 in c:\\users\\ryans\\anaconda3\\lib\\site-packages (from requests<3.0.0,>=2.13.0->spacy>=2.2.0->en_core_web_sm) (3.0.4)\n",
      "Requirement already satisfied: idna<2.9,>=2.5 in c:\\users\\ryans\\anaconda3\\lib\\site-packages (from requests<3.0.0,>=2.13.0->spacy>=2.2.0->en_core_web_sm) (2.8)\n",
      "Requirement already satisfied: urllib3!=1.25.0,!=1.25.1,<1.26,>=1.21.1 in c:\\users\\ryans\\anaconda3\\lib\\site-packages (from requests<3.0.0,>=2.13.0->spacy>=2.2.0->en_core_web_sm) (1.24.2)\n",
      "Requirement already satisfied: importlib-metadata>=0.20; python_version < \"3.8\" in c:\\users\\ryans\\anaconda3\\lib\\site-packages (from catalogue<1.1.0,>=0.0.7->spacy>=2.2.0->en_core_web_sm) (0.23)\n",
      "Requirement already satisfied: zipp>=0.5 in c:\\users\\ryans\\anaconda3\\lib\\site-packages (from importlib-metadata>=0.20; python_version < \"3.8\"->catalogue<1.1.0,>=0.0.7->spacy>=2.2.0->en_core_web_sm) (0.6.0)\n",
      "Requirement already satisfied: more-itertools in c:\\users\\ryans\\anaconda3\\lib\\site-packages (from zipp>=0.5->importlib-metadata>=0.20; python_version < \"3.8\"->catalogue<1.1.0,>=0.0.7->spacy>=2.2.0->en_core_web_sm) (7.2.0)\n",
      "Note: you may need to restart the kernel to use updated packages.\n"
     ]
    },
    {
     "name": "stderr",
     "output_type": "stream",
     "text": [
      "Error processing line 1 of C:\\Users\\ryans\\Anaconda3\\lib\\site-packages\\vision-1.0.0-py3.7-nspkg.pth:\n",
      "\n",
      "  Traceback (most recent call last):\n",
      "    File \"C:\\Users\\ryans\\Anaconda3\\lib\\site.py\", line 168, in addpackage\n",
      "      exec(line)\n",
      "    File \"<string>\", line 1, in <module>\n",
      "    File \"<frozen importlib._bootstrap>\", line 580, in module_from_spec\n",
      "  AttributeError: 'NoneType' object has no attribute 'loader'\n",
      "\n",
      "Remainder of file ignored\n"
     ]
    }
   ],
   "source": [
    "pip install en_core_web_sm"
   ]
  },
  {
   "cell_type": "code",
   "execution_count": 49,
   "metadata": {},
   "outputs": [
    {
     "name": "stderr",
     "output_type": "stream",
     "text": [
      "C:\\Users\\ryans\\Anaconda3\\lib\\site-packages\\spacy\\util.py:275: UserWarning: [W031] Model 'en_core_web_sm' (2.2.0) requires spaCy v2.2 and is incompatible with the current spaCy version (2.3.2). This may lead to unexpected results or runtime errors. To resolve this, download a newer compatible model or retrain your custom model with the current spaCy version. For more details and available updates, run: python -m spacy validate\n",
      "  warnings.warn(warn_msg)\n"
     ]
    }
   ],
   "source": [
    "from textblob import TextBlob\n",
    "import textacy,en_core_web_sm\n",
    "import operator"
   ]
  },
  {
   "cell_type": "code",
   "execution_count": 50,
   "metadata": {},
   "outputs": [
    {
     "name": "stdout",
     "output_type": "stream",
     "text": [
      "Requirement already satisfied: spacy in c:\\users\\ryans\\anaconda3\\lib\\site-packages (2.3.2)\n",
      "Requirement already satisfied: tqdm<5.0.0,>=4.38.0 in c:\\users\\ryans\\anaconda3\\lib\\site-packages (from spacy) (4.48.2)\n",
      "Requirement already satisfied: preshed<3.1.0,>=3.0.2 in c:\\users\\ryans\\anaconda3\\lib\\site-packages (from spacy) (3.0.2)\n",
      "Requirement already satisfied: blis<0.5.0,>=0.4.0 in c:\\users\\ryans\\anaconda3\\lib\\site-packages (from spacy) (0.4.1)\n",
      "Requirement already satisfied: wasabi<1.1.0,>=0.4.0 in c:\\users\\ryans\\anaconda3\\lib\\site-packages (from spacy) (0.8.0)\n",
      "Requirement already satisfied: setuptools in c:\\users\\ryans\\anaconda3\\lib\\site-packages (from spacy) (46.1.3)\n",
      "Requirement already satisfied: cymem<2.1.0,>=2.0.2 in c:\\users\\ryans\\anaconda3\\lib\\site-packages (from spacy) (2.0.3)\n",
      "Requirement already satisfied: requests<3.0.0,>=2.13.0 in c:\\users\\ryans\\anaconda3\\lib\\site-packages (from spacy) (2.22.0)\n",
      "Requirement already satisfied: srsly<1.1.0,>=1.0.2 in c:\\users\\ryans\\anaconda3\\lib\\site-packages (from spacy) (1.0.2)\n",
      "Requirement already satisfied: catalogue<1.1.0,>=0.0.7 in c:\\users\\ryans\\anaconda3\\lib\\site-packages (from spacy) (1.0.0)\n",
      "Requirement already satisfied: murmurhash<1.1.0,>=0.28.0 in c:\\users\\ryans\\anaconda3\\lib\\site-packages (from spacy) (1.0.2)\n",
      "Requirement already satisfied: thinc==7.4.1 in c:\\users\\ryans\\anaconda3\\lib\\site-packages (from spacy) (7.4.1)\n",
      "Requirement already satisfied: plac<1.2.0,>=0.9.6 in c:\\users\\ryans\\anaconda3\\lib\\site-packages (from spacy) (1.1.3)\n",
      "Requirement already satisfied: numpy>=1.15.0 in c:\\users\\ryans\\anaconda3\\lib\\site-packages (from spacy) (1.19.1)\n",
      "Requirement already satisfied: certifi>=2017.4.17 in c:\\users\\ryans\\anaconda3\\lib\\site-packages (from requests<3.0.0,>=2.13.0->spacy) (2019.9.11)\n",
      "Requirement already satisfied: chardet<3.1.0,>=3.0.2 in c:\\users\\ryans\\anaconda3\\lib\\site-packages (from requests<3.0.0,>=2.13.0->spacy) (3.0.4)\n",
      "Requirement already satisfied: urllib3!=1.25.0,!=1.25.1,<1.26,>=1.21.1 in c:\\users\\ryans\\anaconda3\\lib\\site-packages (from requests<3.0.0,>=2.13.0->spacy) (1.24.2)\n",
      "Requirement already satisfied: idna<2.9,>=2.5 in c:\\users\\ryans\\anaconda3\\lib\\site-packages (from requests<3.0.0,>=2.13.0->spacy) (2.8)\n",
      "Requirement already satisfied: importlib-metadata>=0.20; python_version < \"3.8\" in c:\\users\\ryans\\anaconda3\\lib\\site-packages (from catalogue<1.1.0,>=0.0.7->spacy) (0.23)\n",
      "Requirement already satisfied: zipp>=0.5 in c:\\users\\ryans\\anaconda3\\lib\\site-packages (from importlib-metadata>=0.20; python_version < \"3.8\"->catalogue<1.1.0,>=0.0.7->spacy) (0.6.0)\n",
      "Requirement already satisfied: more-itertools in c:\\users\\ryans\\anaconda3\\lib\\site-packages (from zipp>=0.5->importlib-metadata>=0.20; python_version < \"3.8\"->catalogue<1.1.0,>=0.0.7->spacy) (7.2.0)\n",
      "Note: you may need to restart the kernel to use updated packages.\n"
     ]
    },
    {
     "name": "stderr",
     "output_type": "stream",
     "text": [
      "Error processing line 1 of C:\\Users\\ryans\\Anaconda3\\lib\\site-packages\\vision-1.0.0-py3.7-nspkg.pth:\n",
      "\n",
      "  Traceback (most recent call last):\n",
      "    File \"C:\\Users\\ryans\\Anaconda3\\lib\\site.py\", line 168, in addpackage\n",
      "      exec(line)\n",
      "    File \"<string>\", line 1, in <module>\n",
      "    File \"<frozen importlib._bootstrap>\", line 580, in module_from_spec\n",
      "  AttributeError: 'NoneType' object has no attribute 'loader'\n",
      "\n",
      "Remainder of file ignored\n"
     ]
    }
   ],
   "source": [
    "pip install spacy"
   ]
  },
  {
   "cell_type": "code",
   "execution_count": null,
   "metadata": {
    "scrolled": true
   },
   "outputs": [],
   "source": []
  },
  {
   "cell_type": "code",
   "execution_count": 52,
   "metadata": {},
   "outputs": [],
   "source": [
    "import en_core_web_sm#used to load encore_web_sm\n",
    "nlp = en_core_web_sm.load()"
   ]
  },
  {
   "cell_type": "code",
   "execution_count": 53,
   "metadata": {},
   "outputs": [],
   "source": [
    "# Extracting Noun phrases using textacy library\n",
    "def extract_TNP(d):\n",
    "    doc = textacy.make_spacy_doc(d,nlp)\n",
    "    ne=[]\n",
    "    for chunk in doc.noun_chunks:\n",
    "        for w in chunk:\n",
    "            ne.append(str(w))\n",
    "    return ne\n",
    "ltitle_TNP = ltitle.apply(lambda d: extract_TNP(str(d)))"
   ]
  },
  {
   "cell_type": "code",
   "execution_count": 54,
   "metadata": {},
   "outputs": [],
   "source": [
    "# Extracting verb phrases using textacy library\n",
    "def extract_TVP(sent):\n",
    "    pattern = [{'POS': 'VERB', 'OP': '?'},\n",
    "           {'POS': 'ADV', 'OP': '*'},\n",
    "           {'POS': 'VERB', 'OP': '+'}]\n",
    "    doc = textacy.make_spacy_doc(sent,nlp)\n",
    "    verb_phrases = textacy.extract.matches(doc, pattern)\n",
    "    ne = []\n",
    "    for chunk in verb_phrases:\n",
    "        for w in chunk:\n",
    "            ne.append(str(w))\n",
    "    return list(set(ne))"
   ]
  },
  {
   "cell_type": "code",
   "execution_count": 55,
   "metadata": {},
   "outputs": [],
   "source": [
    "# Extracting noun phrases by creating own grammar\n",
    "def extract_NP(sent):\n",
    "    grammar = r\"\"\"NP: {<DT>?<IN>+<JJ>*<NN.*>+}\n",
    "              NP: {<WRB>+<JJ>*<NN.*>+}\"\"\"\n",
    "    chunker = nltk.RegexpParser(grammar)\n",
    "    ne = []\n",
    "    chunk = chunker.parse(nltk.pos_tag([WNlemma.lemmatize(w.lower()) for w in nltk.word_tokenize(str(sent))]))\n",
    "    for tree in chunk.subtrees(filter=lambda t: t.label() == 'NP'):\n",
    "        for child in tree.leaves():\n",
    "            ne.append(child[0])\n",
    "    return ne"
   ]
  },
  {
   "cell_type": "code",
   "execution_count": 56,
   "metadata": {},
   "outputs": [],
   "source": [
    "# Extracting verb phrases by creating own grammar\n",
    "def extract_VP(sent):\n",
    "    grammar = r\"\"\"VP: {<V.*>?<RB.*>*<V.*>+}\"\"\"\n",
    "    chunker = nltk.RegexpParser(grammar)\n",
    "    ne = []\n",
    "    chunk = chunker.parse(nltk.pos_tag([WNlemma.lemmatize(w.lower()) for w in nltk.word_tokenize(sent)]))\n",
    "    for tree in chunk.subtrees(filter=lambda t: t.label() == 'VP'):\n",
    "        for child in tree.leaves():\n",
    "            ne.append(child[0])\n",
    "    return ne"
   ]
  },
  {
   "cell_type": "code",
   "execution_count": 57,
   "metadata": {},
   "outputs": [],
   "source": [
    "# For Noun Phrases extract_NP working better than extract_TNP\n",
    "ltitle_NP = ltitle.apply(extract_NP)\n",
    "ultitle_NP = ultitle.apply(extract_NP)\n",
    "# For Verb Phrases extract_TVP working better than extract_VP\n",
    "ltitle_VP = ltitle.apply(lambda d: extract_TVP(str(d)))\n",
    "ultitle_VP = ultitle.apply(lambda d: extract_TVP(str(d)))"
   ]
  },
  {
   "cell_type": "code",
   "execution_count": 58,
   "metadata": {},
   "outputs": [],
   "source": [
    "# Creating sorted dictionary of number of times noun phrases appeared in whole dataset\n",
    "def all_NP(lt):\n",
    "    np = []\n",
    "    for li in lt:\n",
    "        for w in li:\n",
    "            np.append(w)\n",
    "    return np\n",
    "labelled_allnp = all_NP(ltitle_NP)\n",
    "#unlabelled_allnp = all_NP(ultitle_NP)\n",
    "lunique_np = []\n",
    "uunique_np = []\n",
    "for w in labelled_allnp:\n",
    "    if w not in lunique_np:\n",
    "        lunique_np.append(w)\n",
    "#for w in unlabelled_allnp:\n",
    "#    if w not in uunique_np:\n",
    "#        uunique_np.append(w)\n",
    "lnpdic = {}\n",
    "unpdic = {}\n",
    "for w in lunique_np:\n",
    "    lnpdic[w] = labelled_allnp.count(w)\n",
    "for w in uunique_np:\n",
    "    unpdic[w] = unlabelled_allnp.count(w)\n",
    "lnpdic_sorted = dict(sorted(lnpdic.items(), key=operator.itemgetter(1), reverse=True))\n",
    "#unpdic_sorted = dict(sorted(unpdic.items(), key=operator.itemgetter(1), reverse=True))"
   ]
  },
  {
   "cell_type": "code",
   "execution_count": 59,
   "metadata": {},
   "outputs": [
    {
     "data": {
      "text/plain": [
       "{'in': 318,\n",
       " 'from': 234,\n",
       " 'fall': 220,\n",
       " 'by': 191,\n",
       " 'when': 122,\n",
       " 'roof': 48,\n",
       " 'ladder': 38,\n",
       " 'of': 35,\n",
       " 'heat': 32,\n",
       " 'collapse': 30,\n",
       " 'stress': 28,\n",
       " 'trench': 27,\n",
       " 'truck': 26,\n",
       " 'scaffold': 26,\n",
       " 'on': 26,\n",
       " 'lift': 23,\n",
       " 'with': 22,\n",
       " 'between': 21,\n",
       " 'boom': 21,\n",
       " 'backhoe': 21,\n",
       " 'through': 18,\n",
       " 'tower': 17,\n",
       " 'bridge': 17,\n",
       " 'steel': 16,\n",
       " 'crane': 15,\n",
       " 'into': 15,\n",
       " 'work': 15,\n",
       " 'bucket': 15,\n",
       " 'during': 13,\n",
       " 'flash': 13,\n",
       " 'aerial': 12,\n",
       " 'saw': 12,\n",
       " 'arc': 12,\n",
       " 'contact': 12,\n",
       " 'machine': 11,\n",
       " 'concrete': 11,\n",
       " 'explosion': 11,\n",
       " 'at': 11,\n",
       " 'fire': 11,\n",
       " 'power': 11,\n",
       " 'vehicle': 10,\n",
       " 'line': 10,\n",
       " 'pipe': 10,\n",
       " 'opening': 10,\n",
       " 'after': 9,\n",
       " 'hot': 9,\n",
       " 'caught': 9,\n",
       " 'cable': 9,\n",
       " 'floor': 9,\n",
       " 'beam': 9,\n",
       " 'electrical': 9,\n",
       " 'gas': 8,\n",
       " 'struck': 8,\n",
       " 'while': 8,\n",
       " 'platform': 7,\n",
       " 'excavation': 7,\n",
       " 'excavator': 7,\n",
       " 'elevation': 7,\n",
       " 'head': 7,\n",
       " 'shock': 7,\n",
       " 'tip': 6,\n",
       " 'exposure': 6,\n",
       " 'vapor': 6,\n",
       " 'shaft': 6,\n",
       " 'construction': 6,\n",
       " 'communication': 6,\n",
       " 'unsecured': 6,\n",
       " 'metal': 6,\n",
       " 'carbon': 6,\n",
       " 'monoxide': 6,\n",
       " 'over': 6,\n",
       " 'dump': 6,\n",
       " 'basket': 5,\n",
       " 'accident': 5,\n",
       " 'electric': 5,\n",
       " 'drill': 5,\n",
       " 'equipment': 5,\n",
       " 'roll': 5,\n",
       " 'compactor': 5,\n",
       " 'rebar': 5,\n",
       " 'rock': 5,\n",
       " 'motor': 4,\n",
       " 'forklift': 4,\n",
       " 'asphalt': 4,\n",
       " 'dy': 4,\n",
       " 'joist': 4,\n",
       " 'car': 4,\n",
       " 'under': 4,\n",
       " 'inside': 4,\n",
       " 'skylight': 4,\n",
       " 'heart': 4,\n",
       " 'attack': 4,\n",
       " 'broken': 4,\n",
       " 'bee': 4,\n",
       " 'wall': 4,\n",
       " 'off': 4,\n",
       " 'loader': 4,\n",
       " 'structural': 4,\n",
       " 'strike': 4,\n",
       " 'box': 4,\n",
       " 'hoist': 4,\n",
       " 'part': 4,\n",
       " 'elevator': 4,\n",
       " 'tractor': 4,\n",
       " 'site': 4,\n",
       " 'nail': 3,\n",
       " 'rail': 3,\n",
       " 'ignites': 3,\n",
       " 'ignite': 3,\n",
       " 'tree': 3,\n",
       " 'scissor': 3,\n",
       " 'manhole': 3,\n",
       " 'air': 3,\n",
       " 'worksite': 3,\n",
       " 'glass': 3,\n",
       " 'installation': 3,\n",
       " 'tank': 3,\n",
       " 'plug': 3,\n",
       " 'onto': 3,\n",
       " 'energized': 3,\n",
       " 'hole': 3,\n",
       " 'auger': 3,\n",
       " 'wood': 3,\n",
       " 'roller': 3,\n",
       " 'river': 3,\n",
       " 'cave': 3,\n",
       " 'furnace': 3,\n",
       " 'panel': 3,\n",
       " 'overturn': 3,\n",
       " 'bosun': 3,\n",
       " 'boulder': 3,\n",
       " 'load': 3,\n",
       " 'truss': 3,\n",
       " 'fuel': 3,\n",
       " 'fails': 3,\n",
       " 'fracture': 3,\n",
       " 'cabinet': 3,\n",
       " 'busbar': 3,\n",
       " 'pump': 3,\n",
       " 'for': 3,\n",
       " 'cage': 3,\n",
       " 'break': 3,\n",
       " 'abrasive': 2,\n",
       " 'angle': 2,\n",
       " 'grinder': 2,\n",
       " 'wheel': 2,\n",
       " 'gun': 2,\n",
       " 'tar': 2,\n",
       " 'chemical': 2,\n",
       " 'natural': 2,\n",
       " 'catwalk': 2,\n",
       " 'injures': 2,\n",
       " 'barn': 2,\n",
       " 'belt': 2,\n",
       " 'flammable': 2,\n",
       " 'pier': 2,\n",
       " 'possible': 2,\n",
       " 'helicopter': 2,\n",
       " 'crash': 2,\n",
       " 'blade': 2,\n",
       " 'conductor': 2,\n",
       " 'run': 2,\n",
       " 'dust': 2,\n",
       " 'frame': 2,\n",
       " 'rupture': 2,\n",
       " 'flatbed': 2,\n",
       " 'flip': 2,\n",
       " 'antenna': 2,\n",
       " 'welding': 2,\n",
       " 'welder': 2,\n",
       " 'argon': 2,\n",
       " 'space': 2,\n",
       " 'asphyxia': 2,\n",
       " 'removal': 2,\n",
       " 'framework': 2,\n",
       " 'ash': 2,\n",
       " 'steam': 2,\n",
       " 'hook': 2,\n",
       " 'k': 2,\n",
       " 'tool': 2,\n",
       " 'avalanche': 2,\n",
       " 'back': 2,\n",
       " 'debris': 2,\n",
       " 'light': 2,\n",
       " 'road': 2,\n",
       " 'employee': 2,\n",
       " 'blast': 2,\n",
       " 'release': 2,\n",
       " 'support': 2,\n",
       " 'structure': 2,\n",
       " 'form': 2,\n",
       " 'tunnel': 2,\n",
       " 'rope': 2,\n",
       " 'finger': 2,\n",
       " 'lid': 2,\n",
       " 'sustains': 2,\n",
       " 'wooden': 2,\n",
       " 'collision': 2,\n",
       " 'bar': 2,\n",
       " 'deck': 2,\n",
       " 'chain': 2,\n",
       " 'lung': 2,\n",
       " 'cause': 2,\n",
       " 'asphyxiation': 2,\n",
       " 'mixer': 2,\n",
       " 'slab': 2,\n",
       " 'counterweight': 2,\n",
       " 'block': 2,\n",
       " 'section': 2,\n",
       " 'pole': 2,\n",
       " 'burn': 2,\n",
       " 'overturned': 2,\n",
       " 'live': 2,\n",
       " 'receives': 2,\n",
       " 'project': 2,\n",
       " 'liquid': 2,\n",
       " 'repair': 2,\n",
       " 'area': 2,\n",
       " 'oil': 2,\n",
       " 'plate': 2,\n",
       " 'walkway': 2,\n",
       " 'pulmonary': 2,\n",
       " 'fork': 2,\n",
       " 'threading': 2,\n",
       " 'dehydration': 2,\n",
       " 'abdomen': 1,\n",
       " 'ceiling': 1,\n",
       " 'suspension': 1,\n",
       " 'man': 1,\n",
       " 'telecommunication': 1,\n",
       " 'disk': 1,\n",
       " 'unintended': 1,\n",
       " 'activation': 1,\n",
       " 'wet': 1,\n",
       " 'stream': 1,\n",
       " 'water': 1,\n",
       " 'leaked': 1,\n",
       " 'gasoline': 1,\n",
       " 'billboard': 1,\n",
       " 'limb': 1,\n",
       " 'i': 1,\n",
       " 'manlift': 1,\n",
       " 'pit': 1,\n",
       " 'control': 1,\n",
       " 'dairy': 1,\n",
       " 'farm': 1,\n",
       " 'van': 1,\n",
       " 'fan': 1,\n",
       " 'explode': 1,\n",
       " 'underground': 1,\n",
       " 'return': 1,\n",
       " 'suffocates': 1,\n",
       " 'duct': 1,\n",
       " 'airplane': 1,\n",
       " 'shrapnel': 1,\n",
       " 'buried': 1,\n",
       " 'thru': 1,\n",
       " 'skid': 1,\n",
       " 'steer': 1,\n",
       " 'backover': 1,\n",
       " 'motorist': 1,\n",
       " 'alcohol': 1,\n",
       " 'spray': 1,\n",
       " 'painting': 1,\n",
       " 'epoxy': 1,\n",
       " 'glue': 1,\n",
       " 'glove': 1,\n",
       " 'allergic': 1,\n",
       " 'reaction': 1,\n",
       " 'window': 1,\n",
       " 'ammonia': 1,\n",
       " 'circular': 1,\n",
       " 'cellular': 1,\n",
       " 'house': 1,\n",
       " 'fromtelecommunication': 1,\n",
       " 'aortic': 1,\n",
       " 'arch': 1,\n",
       " 'mobile': 1,\n",
       " 'home': 1,\n",
       " 'plank': 1,\n",
       " 'body': 1,\n",
       " 'garment': 1,\n",
       " 'catch': 1,\n",
       " 'confined': 1,\n",
       " 'inhalation': 1,\n",
       " 'sliver': 1,\n",
       " 'worker': 1,\n",
       " 'cut': 1,\n",
       " 'artery': 1,\n",
       " 'rescue': 1,\n",
       " 'attempt': 1,\n",
       " 'asbestos': 1,\n",
       " 'mesothelioma': 1,\n",
       " 'cloud': 1,\n",
       " 'fly': 1,\n",
       " 'spill': 1,\n",
       " 'winch': 1,\n",
       " 'protrusion': 1,\n",
       " 'jobsite': 1,\n",
       " 'receptacle': 1,\n",
       " 'attachment': 1,\n",
       " 'hatch': 1,\n",
       " 'door': 1,\n",
       " 'attic': 1,\n",
       " 'un': 1,\n",
       " 'fals': 1,\n",
       " 'extension': 1,\n",
       " 'rig': 1,\n",
       " 'automobile': 1,\n",
       " 'grade': 1,\n",
       " 'trailer': 1,\n",
       " 'against': 1,\n",
       " 'wi': 1,\n",
       " 'hoe': 1,\n",
       " 'base': 1,\n",
       " 'arm': 1,\n",
       " 'loader/backhoe': 1,\n",
       " 'baggage': 1,\n",
       " 'conveyor': 1,\n",
       " 'ballast': 1,\n",
       " 'fixture': 1,\n",
       " 'faulty': 1,\n",
       " 'store': 1,\n",
       " 'sign': 1,\n",
       " 'barge': 1,\n",
       " 'bow': 1,\n",
       " 'spud': 1,\n",
       " 'barrier': 1,\n",
       " 'battery': 1,\n",
       " 'eye': 1,\n",
       " 'cleaning': 1,\n",
       " 'bending': 1,\n",
       " 'bladder': 1,\n",
       " 'seal': 1,\n",
       " 'hopper': 1,\n",
       " 'ground': 1,\n",
       " 'tire': 1,\n",
       " 'blowout': 1,\n",
       " 'rim': 1,\n",
       " 'table': 1,\n",
       " 'roon': 1,\n",
       " 'picket': 1,\n",
       " 'fence': 1,\n",
       " 'renovation': 1,\n",
       " 'girder': 1,\n",
       " 'drop': 1,\n",
       " 'spool': 1,\n",
       " 'pressurized': 1,\n",
       " 'grout': 1,\n",
       " 'pant': 1,\n",
       " 'leg': 1,\n",
       " 'kill': 1,\n",
       " 'operator': 1,\n",
       " 'boring': 1,\n",
       " 'bit': 1,\n",
       " 'land/rockslide': 1,\n",
       " 'cart': 1,\n",
       " 'suspended': 1,\n",
       " 'brace': 1,\n",
       " 'fail': 1,\n",
       " 'bulkhead': 1,\n",
       " 'wind': 1,\n",
       " 'slip': 1,\n",
       " 'trauma': 1,\n",
       " 'arrested': 1,\n",
       " 'unguarded': 1,\n",
       " 'face': 1,\n",
       " 'cerebral': 1,\n",
       " 'hemorrhage': 1,\n",
       " 'train': 1,\n",
       " 'scalfold': 1,\n",
       " 'apparent': 1,\n",
       " 'brick': 1,\n",
       " 'skidder': 1,\n",
       " 'track': 1,\n",
       " 'skidsteer': 1,\n",
       " 'bus': 1,\n",
       " 'guardrail': 1,\n",
       " 'bay': 1,\n",
       " 'shattered': 1,\n",
       " 'puncture': 1,\n",
       " 'rib': 1,\n",
       " 'runaway': 1,\n",
       " 'broom': 1,\n",
       " 'hit': 1,\n",
       " 'piece': 1,\n",
       " 'bulldozer': 1,\n",
       " 'bobcat': 1,\n",
       " 'cancer': 1,\n",
       " 'exposed': 1,\n",
       " 'capacitor': 1,\n",
       " 'generator': 1,\n",
       " 'exhaust': 1,\n",
       " 'silo': 1,\n",
       " 'plaster': 1,\n",
       " 'hose': 1,\n",
       " 'coal': 1,\n",
       " 'bin': 1,\n",
       " 'heavy': 1,\n",
       " 'iron': 1,\n",
       " 'commercial': 1,\n",
       " 'diving': 1,\n",
       " 'radio': 1,\n",
       " 'toppled': 1,\n",
       " 'crawl': 1,\n",
       " 'chain/rope': 1,\n",
       " 'sling': 1,\n",
       " 'pot': 1,\n",
       " 'decking': 1,\n",
       " 'infection': 1,\n",
       " 'collapes': 1,\n",
       " 'derrick': 1,\n",
       " 'utility': 1,\n",
       " 'unplanned': 1,\n",
       " 'detonation': 1,\n",
       " 'potassium': 1,\n",
       " 'hydroxide': 1,\n",
       " 'callapes': 1,\n",
       " 'clump': 1,\n",
       " 'dirt': 1,\n",
       " 'seat': 1,\n",
       " 'injury': 1,\n",
       " 'vibratory': 1,\n",
       " 'concussion': 1,\n",
       " 'dynamite': 1,\n",
       " 'explodes': 1,\n",
       " 'solar': 1,\n",
       " 'portable': 1,\n",
       " 'circuit': 1,\n",
       " 'embankment': 1,\n",
       " 'buggy': 1,\n",
       " 'envelope': 1,\n",
       " 'telephone': 1,\n",
       " 'building': 1,\n",
       " 'material': 1,\n",
       " 'cinder': 1,\n",
       " 'landscape': 1,\n",
       " 'high': 1,\n",
       " 'temperature': 1,\n",
       " 'stroke': 1,\n",
       " 'electrocution': 1,\n",
       " 'hold': 1,\n",
       " 'valve': 1,\n",
       " 'bed': 1,\n",
       " 'overexposure': 1,\n",
       " 'hvac': 1,\n",
       " 'switch': 1,\n",
       " 'storage': 1,\n",
       " 'overhead': 1,\n",
       " 'plier': 1,\n",
       " 'jackhammer': 1,\n",
       " 'jack': 1,\n",
       " 'ladderjack': 1,\n",
       " 'legionnaire': 1,\n",
       " 'flange': 1,\n",
       " 'collapsed': 1,\n",
       " 'drum': 1,\n",
       " 'street': 1,\n",
       " 'level': 1,\n",
       " 'soil': 1,\n",
       " 'stabilizer': 1,\n",
       " 'rack': 1,\n",
       " 'foot': 1,\n",
       " 'guide': 1,\n",
       " 'cap': 1,\n",
       " 'empty': 1,\n",
       " 'pool': 1,\n",
       " 'powder': 1,\n",
       " 'crawler': 1,\n",
       " 'guy': 1,\n",
       " 'acute': 1,\n",
       " 'edema': 1,\n",
       " 'embolism': 1,\n",
       " 'hydrogen': 1,\n",
       " 'sulfide': 1,\n",
       " 'shear': 1,\n",
       " 'refinery': 1,\n",
       " 'freon': 1,\n",
       " 'manifold': 1,\n",
       " 'rammer': 1,\n",
       " 'edge': 1,\n",
       " 'shift': 1,\n",
       " 'breezeway': 1,\n",
       " 'rubber': 1,\n",
       " 'sealant': 1,\n",
       " 'retention': 1,\n",
       " 'pond': 1,\n",
       " 'rough': 1,\n",
       " 'terrain': 1,\n",
       " 'location': 1,\n",
       " 'carpenter': 1,\n",
       " 'carriage': 1,\n",
       " 'bundle': 1,\n",
       " 'stairway': 1,\n",
       " 'substation': 1,\n",
       " 'near': 1,\n",
       " 'miss': 1,\n",
       " 'wiring': 1,\n",
       " 'switchgear': 1,\n",
       " 'pipeline': 1,\n",
       " 'zone': 1,\n",
       " 'trough': 1,\n",
       " 'overloaded': 1,\n",
       " 'wrist': 1,\n",
       " 'unspecified': 1,\n",
       " 'parapet': 1,\n",
       " 'post': 1,\n",
       " 'bruise': 1,\n",
       " 'shoulder': 1,\n",
       " 'tie': 1,\n",
       " 'column': 1,\n",
       " 'aluminum': 1,\n",
       " 'scene': 1,\n",
       " 'protection': 1,\n",
       " 'falsework': 1,\n",
       " 'crusher': 1,\n",
       " 'bridging': 1,\n",
       " 'snap': 1,\n",
       " 'gondola': 1,\n",
       " 'tow': 1,\n",
       " 'sheet': 1,\n",
       " 'environment': 1,\n",
       " 'pressure': 1,\n",
       " 'greenhouse': 1}"
      ]
     },
     "execution_count": 59,
     "metadata": {},
     "output_type": "execute_result"
    }
   ],
   "source": [
    "lnpdic_sorted"
   ]
  },
  {
   "cell_type": "code",
   "execution_count": 60,
   "metadata": {},
   "outputs": [
    {
     "data": {
      "text/plain": [
       "['others',\n",
       " 'collapse',\n",
       " 'caught',\n",
       " 'fall',\n",
       " 'exposure',\n",
       " 'electrocution',\n",
       " 'traffic',\n",
       " 'struck',\n",
       " 'fire',\n",
       " ['object', 'chemical', 'explosion']]"
      ]
     },
     "execution_count": 60,
     "metadata": {},
     "output_type": "execute_result"
    }
   ],
   "source": [
    "# Taking words from labels of data\n",
    "labels = []\n",
    "for w in labelled_data.Tagged2.unique():\n",
    "    labels.append(WNlemma.lemmatize(w.split()[0]))\n",
    "labels = list(set(labels))\n",
    "labels.append(['object','chemical','explosion'])\n",
    "labels"
   ]
  },
  {
   "cell_type": "code",
   "execution_count": 61,
   "metadata": {},
   "outputs": [
    {
     "data": {
      "text/plain": [
       "array(['traffic', 'collapse of object', 'falls',\n",
       "       'caught in/between objects', 'struck by moving objects', 'others',\n",
       "       'exposure to chemical substances', 'fires and explosion',\n",
       "       'electrocution', 'struck by falling object',\n",
       "       'exposure to extreme temperatures'], dtype=object)"
      ]
     },
     "execution_count": 61,
     "metadata": {},
     "output_type": "execute_result"
    }
   ],
   "source": [
    "labelled_data.Tagged2.unique()"
   ]
  },
  {
   "cell_type": "markdown",
   "metadata": {},
   "source": [
    "# Creating new data sets with extracted features"
   ]
  },
  {
   "cell_type": "code",
   "execution_count": 62,
   "metadata": {},
   "outputs": [],
   "source": [
    "#unlabelled_new = pd.DataFrame(pd.concat([unlabelled_data.title, unlabelled_data.summary, ultitle_NP, ultitle_VP], axis=1))\n",
    "labelled_new = pd.DataFrame(pd.concat([labelled_data.title, labelled_data.Summary2, ltitle_NP, ltitle_VP], axis=1))"
   ]
  },
  {
   "cell_type": "code",
   "execution_count": 63,
   "metadata": {},
   "outputs": [
    {
     "data": {
      "text/html": [
       "<div>\n",
       "<style scoped>\n",
       "    .dataframe tbody tr th:only-of-type {\n",
       "        vertical-align: middle;\n",
       "    }\n",
       "\n",
       "    .dataframe tbody tr th {\n",
       "        vertical-align: top;\n",
       "    }\n",
       "\n",
       "    .dataframe thead th {\n",
       "        text-align: right;\n",
       "    }\n",
       "</style>\n",
       "<table border=\"1\" class=\"dataframe\">\n",
       "  <thead>\n",
       "    <tr style=\"text-align: right;\">\n",
       "      <th></th>\n",
       "      <th>title</th>\n",
       "      <th>summary</th>\n",
       "      <th>noun_phrases</th>\n",
       "      <th>verb_phrases</th>\n",
       "    </tr>\n",
       "  </thead>\n",
       "  <tbody>\n",
       "    <tr>\n",
       "      <td>0</td>\n",
       "      <td>Two Workers Are Struck By Motor Vehicle And O...</td>\n",
       "      <td>On August 27 2013 Employees #1 and #2 of Templ...</td>\n",
       "      <td>[by, motor, vehicle]</td>\n",
       "      <td>[struck, killed]</td>\n",
       "    </tr>\n",
       "    <tr>\n",
       "      <td>1</td>\n",
       "      <td>Foreman Is Fatally Crushed When Forklift Tips...</td>\n",
       "      <td>At approximately 6:30 a.m. on May 13 2013 Empl...</td>\n",
       "      <td>[when, forklift, tip]</td>\n",
       "      <td>[fatally, crushed]</td>\n",
       "    </tr>\n",
       "    <tr>\n",
       "      <td>2</td>\n",
       "      <td>Employee Suffers Abdominal Fracture In Fall F...</td>\n",
       "      <td>On April 9 2013 Employee #1 was installing vin...</td>\n",
       "      <td>[in, fall, from, ladder]</td>\n",
       "      <td>[suffers]</td>\n",
       "    </tr>\n",
       "    <tr>\n",
       "      <td>3</td>\n",
       "      <td>Employee'S Body Is Caught In Asphalt Machine ...</td>\n",
       "      <td>On November 27 2012 Employee #1 was operating ...</td>\n",
       "      <td>[in, asphalt, machine, dy]</td>\n",
       "      <td>[dies, caught]</td>\n",
       "    </tr>\n",
       "    <tr>\n",
       "      <td>4</td>\n",
       "      <td>Employee Is Punctured In Abdomen With Nail</td>\n",
       "      <td>At approximately 11:57 a.m. on September 28 20...</td>\n",
       "      <td>[in, abdomen, with, nail]</td>\n",
       "      <td>[punctured]</td>\n",
       "    </tr>\n",
       "  </tbody>\n",
       "</table>\n",
       "</div>"
      ],
      "text/plain": [
       "                                               title  \\\n",
       "0   Two Workers Are Struck By Motor Vehicle And O...   \n",
       "1   Foreman Is Fatally Crushed When Forklift Tips...   \n",
       "2   Employee Suffers Abdominal Fracture In Fall F...   \n",
       "3   Employee'S Body Is Caught In Asphalt Machine ...   \n",
       "4        Employee Is Punctured In Abdomen With Nail    \n",
       "\n",
       "                                             summary  \\\n",
       "0  On August 27 2013 Employees #1 and #2 of Templ...   \n",
       "1  At approximately 6:30 a.m. on May 13 2013 Empl...   \n",
       "2  On April 9 2013 Employee #1 was installing vin...   \n",
       "3  On November 27 2012 Employee #1 was operating ...   \n",
       "4  At approximately 11:57 a.m. on September 28 20...   \n",
       "\n",
       "                 noun_phrases        verb_phrases  \n",
       "0        [by, motor, vehicle]    [struck, killed]  \n",
       "1       [when, forklift, tip]  [fatally, crushed]  \n",
       "2    [in, fall, from, ladder]           [suffers]  \n",
       "3  [in, asphalt, machine, dy]      [dies, caught]  \n",
       "4   [in, abdomen, with, nail]         [punctured]  "
      ]
     },
     "execution_count": 63,
     "metadata": {},
     "output_type": "execute_result"
    }
   ],
   "source": [
    "#unlabelled_new.columns = ['title', 'summary', 'noun_phrases', 'verb_phrases']\n",
    "labelled_new.columns = ['title', 'summary', 'noun_phrases', 'verb_phrases']\n",
    "labelled_new.head()"
   ]
  },
  {
   "cell_type": "code",
   "execution_count": 64,
   "metadata": {},
   "outputs": [],
   "source": [
    "# Vectorizing noun phrases\n",
    "def np2vec(nps):\n",
    "    ne=[]\n",
    "    for n in nps:\n",
    "        if n in word_index2.keys():\n",
    "            ne.append(word_index2[n])\n",
    "    if len(ne)<7:\n",
    "        for i in range(7-len(ne)):\n",
    "            ne.append(0)\n",
    "    return np.array(ne)"
   ]
  },
  {
   "cell_type": "code",
   "execution_count": 65,
   "metadata": {},
   "outputs": [],
   "source": [
    "# Vectorizing verb phrases\n",
    "def vp2vec(vp):\n",
    "    ne=[]\n",
    "    for v in vp:\n",
    "        if v in word_index2.keys():\n",
    "            ne.append(word_index2[v])\n",
    "    if len(ne)<5:\n",
    "        for i in range(5-len(ne)):\n",
    "            ne.append(0)\n",
    "    return np.array(ne)"
   ]
  },
  {
   "cell_type": "code",
   "execution_count": 66,
   "metadata": {},
   "outputs": [],
   "source": [
    "labelled_new['np_vec'] = labelled_new.noun_phrases.apply(np2vec)\n",
    "#unlabelled_new['np_vec'] = unlabelled_new.noun_phrases.apply(np2vec)"
   ]
  },
  {
   "cell_type": "code",
   "execution_count": 67,
   "metadata": {},
   "outputs": [],
   "source": [
    "labelled_new['vp_vec'] = labelled_new.verb_phrases.apply(vp2vec)\n",
    "#unlabelled_new['vp_vec'] = unlabelled_new.verb_phrases.apply(vp2vec)"
   ]
  },
  {
   "cell_type": "code",
   "execution_count": 68,
   "metadata": {},
   "outputs": [
    {
     "name": "stdout",
     "output_type": "stream",
     "text": [
      "5\n"
     ]
    }
   ],
   "source": [
    "# To find the maximum length of noun phrases vector\n",
    "print(labelled_new.vp_vec.str.len().max())\n",
    "#print(unlabelled_new.vp_vec.str.len().max())"
   ]
  },
  {
   "cell_type": "code",
   "execution_count": 69,
   "metadata": {
    "scrolled": true
   },
   "outputs": [
    {
     "name": "stdout",
     "output_type": "stream",
     "text": [
      "7\n"
     ]
    }
   ],
   "source": [
    "# To find the maximum length of noun phrases vector\n",
    "print(labelled_new.np_vec.str.len().max())\n",
    "#print(unlabelled_new.np_vec.str.len().max())"
   ]
  },
  {
   "cell_type": "code",
   "execution_count": 70,
   "metadata": {},
   "outputs": [
    {
     "data": {
      "text/html": [
       "<div>\n",
       "<style scoped>\n",
       "    .dataframe tbody tr th:only-of-type {\n",
       "        vertical-align: middle;\n",
       "    }\n",
       "\n",
       "    .dataframe tbody tr th {\n",
       "        vertical-align: top;\n",
       "    }\n",
       "\n",
       "    .dataframe thead th {\n",
       "        text-align: right;\n",
       "    }\n",
       "</style>\n",
       "<table border=\"1\" class=\"dataframe\">\n",
       "  <thead>\n",
       "    <tr style=\"text-align: right;\">\n",
       "      <th></th>\n",
       "      <th>title</th>\n",
       "      <th>summary</th>\n",
       "      <th>noun_phrases</th>\n",
       "      <th>verb_phrases</th>\n",
       "      <th>np_vec</th>\n",
       "      <th>vp_vec</th>\n",
       "    </tr>\n",
       "  </thead>\n",
       "  <tbody>\n",
       "    <tr>\n",
       "      <td>0</td>\n",
       "      <td>Two Workers Are Struck By Motor Vehicle And O...</td>\n",
       "      <td>On August 27 2013 Employees #1 and #2 of Templ...</td>\n",
       "      <td>[by, motor, vehicle]</td>\n",
       "      <td>[struck, killed]</td>\n",
       "      <td>[322, 120, 0, 0, 0, 0, 0]</td>\n",
       "      <td>[30, 49, 0, 0, 0]</td>\n",
       "    </tr>\n",
       "    <tr>\n",
       "      <td>1</td>\n",
       "      <td>Foreman Is Fatally Crushed When Forklift Tips...</td>\n",
       "      <td>At approximately 6:30 a.m. on May 13 2013 Empl...</td>\n",
       "      <td>[when, forklift, tip]</td>\n",
       "      <td>[fatally, crushed]</td>\n",
       "      <td>[69, 337, 0, 0, 0, 0, 0]</td>\n",
       "      <td>[1595, 210, 0, 0, 0]</td>\n",
       "    </tr>\n",
       "    <tr>\n",
       "      <td>2</td>\n",
       "      <td>Employee Suffers Abdominal Fracture In Fall F...</td>\n",
       "      <td>On April 9 2013 Employee #1 was installing vin...</td>\n",
       "      <td>[in, fall, from, ladder]</td>\n",
       "      <td>[suffers]</td>\n",
       "      <td>[1858, 67, 50, 0, 0, 0, 0]</td>\n",
       "      <td>[12028, 0, 0, 0, 0]</td>\n",
       "    </tr>\n",
       "    <tr>\n",
       "      <td>3</td>\n",
       "      <td>Employee'S Body Is Caught In Asphalt Machine ...</td>\n",
       "      <td>On November 27 2012 Employee #1 was operating ...</td>\n",
       "      <td>[in, asphalt, machine, dy]</td>\n",
       "      <td>[dies, caught]</td>\n",
       "      <td>[1858, 565, 11, 1518, 0, 0, 0]</td>\n",
       "      <td>[63, 0, 0, 0, 0]</td>\n",
       "    </tr>\n",
       "    <tr>\n",
       "      <td>4</td>\n",
       "      <td>Employee Is Punctured In Abdomen With Nail</td>\n",
       "      <td>At approximately 11:57 a.m. on September 28 20...</td>\n",
       "      <td>[in, abdomen, with, nail]</td>\n",
       "      <td>[punctured]</td>\n",
       "      <td>[1858, 1217, 750, 0, 0, 0, 0]</td>\n",
       "      <td>[1487, 0, 0, 0, 0]</td>\n",
       "    </tr>\n",
       "  </tbody>\n",
       "</table>\n",
       "</div>"
      ],
      "text/plain": [
       "                                               title  \\\n",
       "0   Two Workers Are Struck By Motor Vehicle And O...   \n",
       "1   Foreman Is Fatally Crushed When Forklift Tips...   \n",
       "2   Employee Suffers Abdominal Fracture In Fall F...   \n",
       "3   Employee'S Body Is Caught In Asphalt Machine ...   \n",
       "4        Employee Is Punctured In Abdomen With Nail    \n",
       "\n",
       "                                             summary  \\\n",
       "0  On August 27 2013 Employees #1 and #2 of Templ...   \n",
       "1  At approximately 6:30 a.m. on May 13 2013 Empl...   \n",
       "2  On April 9 2013 Employee #1 was installing vin...   \n",
       "3  On November 27 2012 Employee #1 was operating ...   \n",
       "4  At approximately 11:57 a.m. on September 28 20...   \n",
       "\n",
       "                 noun_phrases        verb_phrases  \\\n",
       "0        [by, motor, vehicle]    [struck, killed]   \n",
       "1       [when, forklift, tip]  [fatally, crushed]   \n",
       "2    [in, fall, from, ladder]           [suffers]   \n",
       "3  [in, asphalt, machine, dy]      [dies, caught]   \n",
       "4   [in, abdomen, with, nail]         [punctured]   \n",
       "\n",
       "                           np_vec                vp_vec  \n",
       "0       [322, 120, 0, 0, 0, 0, 0]     [30, 49, 0, 0, 0]  \n",
       "1        [69, 337, 0, 0, 0, 0, 0]  [1595, 210, 0, 0, 0]  \n",
       "2      [1858, 67, 50, 0, 0, 0, 0]   [12028, 0, 0, 0, 0]  \n",
       "3  [1858, 565, 11, 1518, 0, 0, 0]      [63, 0, 0, 0, 0]  \n",
       "4   [1858, 1217, 750, 0, 0, 0, 0]    [1487, 0, 0, 0, 0]  "
      ]
     },
     "execution_count": 70,
     "metadata": {},
     "output_type": "execute_result"
    }
   ],
   "source": [
    "labelled_new.head()"
   ]
  },
  {
   "cell_type": "code",
   "execution_count": 71,
   "metadata": {},
   "outputs": [
    {
     "data": {
      "text/plain": [
       "array([322, 120,   0,   0,   0,   0,   0])"
      ]
     },
     "execution_count": 71,
     "metadata": {},
     "output_type": "execute_result"
    }
   ],
   "source": [
    "labelled_new.np_vec[0]"
   ]
  },
  {
   "cell_type": "markdown",
   "metadata": {},
   "source": [
    "# Model Building"
   ]
  },
  {
   "cell_type": "code",
   "execution_count": 72,
   "metadata": {},
   "outputs": [],
   "source": [
    "from sklearn.model_selection import train_test_split \n",
    "from sklearn.preprocessing import LabelEncoder"
   ]
  },
  {
   "cell_type": "code",
   "execution_count": 73,
   "metadata": {},
   "outputs": [],
   "source": [
    "y = LabelEncoder().fit_transform(labelled_data.Tagged2.values)"
   ]
  },
  {
   "cell_type": "code",
   "execution_count": 74,
   "metadata": {},
   "outputs": [
    {
     "data": {
      "text/plain": [
       "(1050, 212)"
      ]
     },
     "execution_count": 74,
     "metadata": {},
     "output_type": "execute_result"
    }
   ],
   "source": [
    "res = []\n",
    "for p,q,r in zip(labelled_new.np_vec, labelled_new.vp_vec, ltrain_seq):\n",
    "    res.append(np.array(list(p)+list(q)+list(r)))\n",
    "ltrain_seq = np.array(res)\n",
    "res1 = []\n",
    "#for p,q,r in zip(unlabelled_new.np_vec, unlabelled_new.vp_vec, utrain_seq):\n",
    "#    res1.append(np.array(list(p)+list(q)+list(r)))\n",
    "#utrain_seq = np.array(res1)\n",
    "ltrain_seq.shape"
   ]
  },
  {
   "cell_type": "code",
   "execution_count": 75,
   "metadata": {},
   "outputs": [],
   "source": [
    "from sklearn.metrics import accuracy_score,confusion_matrix,classification_report"
   ]
  },
  {
   "cell_type": "code",
   "execution_count": 76,
   "metadata": {},
   "outputs": [],
   "source": [
    "X_train, X_test, y_train, y_test = train_test_split(ltrain_seq, y, test_size=0.2)"
   ]
  },
  {
   "cell_type": "code",
   "execution_count": 77,
   "metadata": {},
   "outputs": [
    {
     "data": {
      "text/plain": [
       "(840, 212)"
      ]
     },
     "execution_count": 77,
     "metadata": {},
     "output_type": "execute_result"
    }
   ],
   "source": [
    "X_train.shape"
   ]
  },
  {
   "cell_type": "markdown",
   "metadata": {},
   "source": [
    "# Model-1 is basic just to check our preprocessed data performance"
   ]
  },
  {
   "cell_type": "code",
   "execution_count": 124,
   "metadata": {},
   "outputs": [],
   "source": [
    "model1 = tf.keras.Sequential([\n",
    "    tf.keras.layers.Embedding(len(word_index2)+1, 300, input_length=212, weights=[embedding_matrix], trainable=False),\n",
    "    #tf.keras.layers.Dropout(0.3),\n",
    "    tf.keras.layers.Convolution1D(30, 3, activation=tf.keras.layers.LeakyReLU(alpha=0.1)),\n",
    "    tf.keras.layers.GlobalMaxPool1D(),\n",
    "    tf.keras.layers.Dropout(0.3),\n",
    "    tf.keras.layers.Dense(11, activation=tf.nn.softmax)\n",
    "])"
   ]
  },
  {
   "cell_type": "code",
   "execution_count": 125,
   "metadata": {},
   "outputs": [],
   "source": [
    "lr_decay = tf.keras.optimizers.schedules.InverseTimeDecay(0.001, 100, 0.2)\n",
    "model1.compile(optimizer=tf.keras.optimizers.Adam(), loss=tf.keras.losses.sparse_categorical_crossentropy, metrics=['accuracy'])  "
   ]
  },
  {
   "cell_type": "code",
   "execution_count": 126,
   "metadata": {},
   "outputs": [
    {
     "name": "stdout",
     "output_type": "stream",
     "text": [
      "Epoch 1/10\n",
      "27/27 [==============================] - 1s 22ms/step - loss: 2.6496 - accuracy: 0.1619\n",
      "Epoch 2/10\n",
      "27/27 [==============================] - 1s 21ms/step - loss: 2.0275 - accuracy: 0.3000\n",
      "Epoch 3/10\n",
      "27/27 [==============================] - 1s 21ms/step - loss: 1.7298 - accuracy: 0.4238\n",
      "Epoch 4/10\n",
      "27/27 [==============================] - 1s 21ms/step - loss: 1.4873 - accuracy: 0.5333\n",
      "Epoch 5/10\n",
      "27/27 [==============================] - 1s 21ms/step - loss: 1.3165 - accuracy: 0.6095\n",
      "Epoch 6/10\n",
      "27/27 [==============================] - 1s 21ms/step - loss: 1.2197 - accuracy: 0.6524\n",
      "Epoch 7/10\n",
      "27/27 [==============================] - 1s 22ms/step - loss: 1.1256 - accuracy: 0.6821\n",
      "Epoch 8/10\n",
      "27/27 [==============================] - 1s 21ms/step - loss: 1.0165 - accuracy: 0.7119\n",
      "Epoch 9/10\n",
      "27/27 [==============================] - 1s 21ms/step - loss: 0.9236 - accuracy: 0.7369\n",
      "Epoch 10/10\n",
      "27/27 [==============================] - 1s 22ms/step - loss: 0.8218 - accuracy: 0.7786\n"
     ]
    },
    {
     "data": {
      "text/plain": [
       "<tensorflow.python.keras.callbacks.History at 0x1f116530188>"
      ]
     },
     "execution_count": 126,
     "metadata": {},
     "output_type": "execute_result"
    }
   ],
   "source": [
    "model1.fit(X_train, y_train, epochs=10)"
   ]
  },
  {
   "cell_type": "code",
   "execution_count": 127,
   "metadata": {},
   "outputs": [
    {
     "name": "stdout",
     "output_type": "stream",
     "text": [
      "7/7 [==============================] - 0s 6ms/step - loss: 1.1615 - accuracy: 0.6143\n"
     ]
    }
   ],
   "source": [
    "a,b = model1.evaluate(X_test, y_test)"
   ]
  },
  {
   "cell_type": "code",
   "execution_count": 128,
   "metadata": {},
   "outputs": [
    {
     "data": {
      "text/plain": [
       "(210,)"
      ]
     },
     "execution_count": 128,
     "metadata": {},
     "output_type": "execute_result"
    }
   ],
   "source": [
    "predic = model1.predict(X_test)\n",
    "predic1 = []\n",
    "for p in predic:\n",
    "    predic1.append(np.argmax(p))\n",
    "predic1 = np.array(predic1)\n",
    "predic1.shape"
   ]
  },
  {
   "cell_type": "code",
   "execution_count": 129,
   "metadata": {},
   "outputs": [],
   "source": [
    "from sklearn.metrics import f1_score,accuracy_score"
   ]
  },
  {
   "cell_type": "code",
   "execution_count": 130,
   "metadata": {},
   "outputs": [
    {
     "data": {
      "text/plain": [
       "0.5849815112982275"
      ]
     },
     "execution_count": 130,
     "metadata": {},
     "output_type": "execute_result"
    }
   ],
   "source": [
    "f1_score(y_test, predic1, average='weighted')"
   ]
  },
  {
   "cell_type": "code",
   "execution_count": null,
   "metadata": {},
   "outputs": [],
   "source": []
  },
  {
   "cell_type": "markdown",
   "metadata": {},
   "source": [
    "# Model-2 contains attention layer and is advanced"
   ]
  },
  {
   "cell_type": "code",
   "execution_count": 85,
   "metadata": {},
   "outputs": [],
   "source": [
    "from tensorflow.keras.layers import Layer\n",
    "import tensorflow.keras.backend as K"
   ]
  },
  {
   "cell_type": "code",
   "execution_count": 86,
   "metadata": {},
   "outputs": [],
   "source": [
    "class attention(Layer):\n",
    "    def __init__(self,**kwargs):\n",
    "        super(attention,self).__init__(**kwargs)\n",
    "\n",
    "    def build(self,input_shape):\n",
    "        self.W=self.add_weight(name=\"att_weight\",shape=(input_shape[-1],1),initializer=tf.keras.initializers.glorot_uniform)\n",
    "        self.b=self.add_weight(name=\"att_bias\",shape=(input_shape[1],1),initializer=\"zeros\")        \n",
    "        super(attention, self).build(input_shape)\n",
    "\n",
    "    def call(self,x):\n",
    "        et=K.squeeze(K.tanh(K.dot(x,self.W)+self.b),axis=-1)\n",
    "        at=K.softmax(et)\n",
    "        at=K.expand_dims(at,axis=-1)\n",
    "        output=x*at\n",
    "        return K.sum(output,axis=1)\n",
    "\n",
    "    def compute_output_shape(self,input_shape):\n",
    "        return (input_shape[0],input_shape[-1])\n",
    "\n",
    "    def get_config(self):\n",
    "        return super(attention,self).get_config()"
   ]
  },
  {
   "cell_type": "code",
   "execution_count": null,
   "metadata": {},
   "outputs": [],
   "source": []
  },
  {
   "cell_type": "code",
   "execution_count": null,
   "metadata": {},
   "outputs": [],
   "source": []
  },
  {
   "cell_type": "code",
   "execution_count": 194,
   "metadata": {},
   "outputs": [],
   "source": [
    "model2 = tf.keras.Sequential([\n",
    "    tf.keras.layers.Embedding(len(word_index2)+1, 300, input_length=212, weights=[embedding_matrix], trainable=False),  \n",
    "    tf.keras.layers.Dropout(0.4),\n",
    "    tf.keras.layers.BatchNormalization(),\n",
    "    tf.keras.layers.Conv1D(30, 5, activation=tf.keras.layers.LeakyReLU(alpha=0.1)),\n",
    "    tf.keras.layers.MaxPool1D(),\n",
    "   \n",
    "    #tf.keras.layers.Dropout(0.01),\n",
    "    tf.keras.layers.LSTM(30, return_sequences=True, recurrent_dropout=0.3, dropout=0.2),\n",
    "    attention(),\n",
    "    #tf.keras.layers.Dropout(0.1),\n",
    "    tf.keras.layers.Dense(11, activation=tf.keras.activations.softmax)\n",
    "])"
   ]
  },
  {
   "cell_type": "code",
   "execution_count": 195,
   "metadata": {},
   "outputs": [],
   "source": [
    "lr_decay = tf.keras.optimizers.schedules.ExponentialDecay(0.001, 500, 0.2, staircase=True)\n",
    "model2.compile(optimizer=tf.keras.optimizers.Adam(learning_rate=lr_decay), loss=tf.keras.losses.sparse_categorical_crossentropy, metrics=['accuracy'])"
   ]
  },
  {
   "cell_type": "code",
   "execution_count": 196,
   "metadata": {
    "scrolled": false
   },
   "outputs": [
    {
     "name": "stdout",
     "output_type": "stream",
     "text": [
      "Epoch 1/26\n",
      "27/27 [==============================] - 4s 139ms/step - loss: 2.2497 - accuracy: 0.2024 - val_loss: 2.2875 - val_accuracy: 0.2095\n",
      "Epoch 2/26\n",
      "27/27 [==============================] - 4s 140ms/step - loss: 2.0123 - accuracy: 0.2655 - val_loss: 2.1812 - val_accuracy: 0.3190\n",
      "Epoch 3/26\n",
      "27/27 [==============================] - 4s 145ms/step - loss: 1.8153 - accuracy: 0.4095 - val_loss: 2.0193 - val_accuracy: 0.2952\n",
      "Epoch 4/26\n",
      "27/27 [==============================] - 4s 138ms/step - loss: 1.6018 - accuracy: 0.4893 - val_loss: 1.9228 - val_accuracy: 0.4571\n",
      "Epoch 5/26\n",
      "27/27 [==============================] - 4s 142ms/step - loss: 1.4402 - accuracy: 0.5560 - val_loss: 1.9474 - val_accuracy: 0.4714\n",
      "Epoch 6/26\n",
      "27/27 [==============================] - 4s 143ms/step - loss: 1.2985 - accuracy: 0.6000 - val_loss: 1.8103 - val_accuracy: 0.4667\n",
      "Epoch 7/26\n",
      "27/27 [==============================] - 4s 142ms/step - loss: 1.1842 - accuracy: 0.6119 - val_loss: 1.8201 - val_accuracy: 0.4667\n",
      "Epoch 8/26\n",
      "27/27 [==============================] - 4s 134ms/step - loss: 1.0739 - accuracy: 0.6333 - val_loss: 1.6602 - val_accuracy: 0.4619\n",
      "Epoch 9/26\n",
      "27/27 [==============================] - 4s 134ms/step - loss: 1.0200 - accuracy: 0.6762 - val_loss: 1.6833 - val_accuracy: 0.4810\n",
      "Epoch 10/26\n",
      "27/27 [==============================] - 3s 129ms/step - loss: 0.9576 - accuracy: 0.6964 - val_loss: 1.7628 - val_accuracy: 0.4571\n",
      "Epoch 11/26\n",
      "27/27 [==============================] - 4s 131ms/step - loss: 0.9144 - accuracy: 0.7119 - val_loss: 1.4945 - val_accuracy: 0.5143\n",
      "Epoch 12/26\n",
      "27/27 [==============================] - 4s 133ms/step - loss: 0.8273 - accuracy: 0.7405 - val_loss: 1.6332 - val_accuracy: 0.4619\n",
      "Epoch 13/26\n",
      "27/27 [==============================] - 4s 131ms/step - loss: 0.7939 - accuracy: 0.7548 - val_loss: 1.6596 - val_accuracy: 0.4619\n",
      "Epoch 14/26\n",
      "27/27 [==============================] - 4s 141ms/step - loss: 0.7734 - accuracy: 0.7452 - val_loss: 1.4916 - val_accuracy: 0.4857\n",
      "Epoch 15/26\n",
      "27/27 [==============================] - 4s 148ms/step - loss: 0.7187 - accuracy: 0.7893 - val_loss: 1.6251 - val_accuracy: 0.4952\n",
      "Epoch 16/26\n",
      "27/27 [==============================] - 4s 154ms/step - loss: 0.6876 - accuracy: 0.7821 - val_loss: 1.3719 - val_accuracy: 0.4952\n",
      "Epoch 17/26\n",
      "27/27 [==============================] - 4s 146ms/step - loss: 0.6875 - accuracy: 0.7964 - val_loss: 1.4939 - val_accuracy: 0.4952\n",
      "Epoch 18/26\n",
      "27/27 [==============================] - 4s 130ms/step - loss: 0.6439 - accuracy: 0.7786 - val_loss: 1.3177 - val_accuracy: 0.4952\n",
      "Epoch 19/26\n",
      "27/27 [==============================] - 4s 137ms/step - loss: 0.6412 - accuracy: 0.7869 - val_loss: 1.4855 - val_accuracy: 0.5143\n",
      "Epoch 20/26\n",
      "27/27 [==============================] - 3s 124ms/step - loss: 0.6017 - accuracy: 0.8226 - val_loss: 1.4049 - val_accuracy: 0.4952\n",
      "Epoch 21/26\n",
      "27/27 [==============================] - 4s 141ms/step - loss: 0.5608 - accuracy: 0.8262 - val_loss: 1.4728 - val_accuracy: 0.5095\n",
      "Epoch 22/26\n",
      "27/27 [==============================] - 4s 146ms/step - loss: 0.5535 - accuracy: 0.8274 - val_loss: 1.3861 - val_accuracy: 0.5190\n",
      "Epoch 23/26\n",
      "27/27 [==============================] - 3s 127ms/step - loss: 0.5608 - accuracy: 0.8286 - val_loss: 1.4121 - val_accuracy: 0.5095\n",
      "Epoch 24/26\n",
      "27/27 [==============================] - 3s 125ms/step - loss: 0.5242 - accuracy: 0.8429 - val_loss: 1.4747 - val_accuracy: 0.5190\n",
      "Epoch 25/26\n",
      "27/27 [==============================] - 4s 130ms/step - loss: 0.5692 - accuracy: 0.8155 - val_loss: 1.4287 - val_accuracy: 0.5190\n",
      "Epoch 26/26\n",
      "27/27 [==============================] - 3s 125ms/step - loss: 0.5201 - accuracy: 0.8369 - val_loss: 1.4532 - val_accuracy: 0.5286\n"
     ]
    }
   ],
   "source": [
    "# 23+3 total 26 epochs are trained\n",
    "history = model2.fit(ltrain_seq, y, validation_split=0.2, epochs=26)\n"
   ]
  },
  {
   "cell_type": "code",
   "execution_count": 197,
   "metadata": {},
   "outputs": [
    {
     "data": {
      "text/plain": [
       "(1050,)"
      ]
     },
     "execution_count": 197,
     "metadata": {},
     "output_type": "execute_result"
    }
   ],
   "source": [
    "pred = model2.predict(ltrain_seq)\n",
    "pred1 = []\n",
    "for p in pred:\n",
    "    pred1.append(np.argmax(p))\n",
    "pred1 = np.array(pred1)\n",
    "pred1.shape"
   ]
  },
  {
   "cell_type": "code",
   "execution_count": 198,
   "metadata": {},
   "outputs": [
    {
     "name": "stdout",
     "output_type": "stream",
     "text": [
      "accuracy is:  0.8352380952380952\n",
      "weighted f1_score is:  0.8185163646437849\n"
     ]
    }
   ],
   "source": [
    "print('accuracy is: ', accuracy_score(y, pred1))\n",
    "print('weighted f1_score is: ', f1_score(y, pred1, average='weighted'))"
   ]
  },
  {
   "cell_type": "code",
   "execution_count": 199,
   "metadata": {},
   "outputs": [
    {
     "data": {
      "text/plain": [
       "dict_keys(['loss', 'accuracy', 'val_loss', 'val_accuracy'])"
      ]
     },
     "execution_count": 199,
     "metadata": {},
     "output_type": "execute_result"
    }
   ],
   "source": [
    "history.history.keys()"
   ]
  },
  {
   "cell_type": "code",
   "execution_count": 200,
   "metadata": {},
   "outputs": [
    {
     "data": {
      "image/png": "[encoded data removed]",
      "text/plain": [
       "<Figure size 432x288 with 1 Axes>"
      ]
     },
     "metadata": {
      "needs_background": "light"
     },
     "output_type": "display_data"
    }
   ],
   "source": [
    "plt.plot(history.history['loss'])\n",
    "plt.plot(history.history['val_loss'])\n",
    "plt.xlabel('epochs')\n",
    "plt.ylabel('Loss')\n",
    "plt.legend(['train_loss','val_loss'], loc=0)\n",
    "plt.show()"
   ]
  },
  {
   "cell_type": "code",
   "execution_count": null,
   "metadata": {},
   "outputs": [],
   "source": []
  },
  {
   "cell_type": "code",
   "execution_count": 94,
   "metadata": {},
   "outputs": [],
   "source": [
    "from tensorflow.keras import layers\n",
    "from tensorflow import keras"
   ]
  },
  {
   "cell_type": "code",
   "execution_count": 95,
   "metadata": {},
   "outputs": [],
   "source": [
    "class Position_Embedding(Layer):\n",
    "    \n",
    "    def __init__(self, size=None, mode='sum', **kwargs):\n",
    "        self.size = size\n",
    "        self.mode = mode\n",
    "        super(Position_Embedding, self).__init__(**kwargs)\n",
    "        \n",
    "    def call(self, x):\n",
    "        if (self.size == None) or (self.mode == 'sum'):\n",
    "            self.size = int(x.shape[-1])\n",
    "        batch_size,seq_len = K.shape(x)[0],K.shape(x)[1]\n",
    "        position_j = 1. / K.pow(10000., \\\n",
    "                                 2 * K.arange(self.size / 2, dtype='float32' \\\n",
    "                               ) / self.size)\n",
    "        position_j = K.expand_dims(position_j, 0)\n",
    "        position_i = K.cumsum(K.ones_like(x[:,:,0]), 1)-1 \n",
    "        position_i = K.expand_dims(position_i, 2)\n",
    "        position_ij = K.dot(position_i, position_j)\n",
    "        position_ij = K.concatenate([K.cos(position_ij), K.sin(position_ij)], 2)\n",
    "        if self.mode == 'sum':\n",
    "            return position_ij + x\n",
    "        elif self.mode == 'concat':\n",
    "            return K.concatenate([position_ij, x], 2)\n",
    "        \n",
    "    def compute_output_shape(self, input_shape):\n",
    "        if self.mode == 'sum':\n",
    "            return input_shape\n",
    "        elif self.mode == 'concat':\n",
    "            return (input_shape[0], input_shape[1], input_shape[2]+self.size)"
   ]
  },
  {
   "cell_type": "code",
   "execution_count": 96,
   "metadata": {},
   "outputs": [],
   "source": [
    "class Attention(Layer):\n",
    "\n",
    "    def __init__(self, nb_head, size_per_head, **kwargs):\n",
    "        self.nb_head = nb_head\n",
    "        self.size_per_head = size_per_head\n",
    "        self.output_dim = nb_head*size_per_head\n",
    "        super(Attention, self).__init__(**kwargs)\n",
    "\n",
    "    def build(self, input_shape):\n",
    "        self.WQ = self.add_weight(name='WQ', \n",
    "                                  shape=(input_shape[0][-1], self.output_dim),\n",
    "                                  initializer='glorot_uniform',\n",
    "                                  trainable=True)\n",
    "        self.WK = self.add_weight(name='WK', \n",
    "                                  shape=(input_shape[1][-1], self.output_dim),\n",
    "                                  initializer='glorot_uniform',\n",
    "                                  trainable=True)\n",
    "        self.WV = self.add_weight(name='WV', \n",
    "                                  shape=(input_shape[2][-1], self.output_dim),\n",
    "                                  initializer='glorot_uniform',\n",
    "                                  trainable=True)\n",
    "        super(Attention, self).build(input_shape)\n",
    "        \n",
    "    def Mask(self, inputs, seq_len, mode='mul'):\n",
    "        if seq_len == None:\n",
    "            return inputs\n",
    "        else:\n",
    "            mask = K.one_hot(seq_len[:,0], K.shape(inputs)[1])\n",
    "            mask = 1 - K.cumsum(mask, 1)\n",
    "            for _ in range(len(inputs.shape)-2):\n",
    "                mask = K.expand_dims(mask, 2)\n",
    "            if mode == 'mul':\n",
    "                return inputs * mask\n",
    "            if mode == 'add':\n",
    "                return inputs - (1 - mask) * 1e12\n",
    "                \n",
    "    def call(self, x):\n",
    "        if len(x) == 3:\n",
    "            Q_seq,K_seq,V_seq = x\n",
    "            Q_len,V_len = None,None\n",
    "        elif len(x) == 5:\n",
    "            Q_seq,K_seq,V_seq,Q_len,V_len = x\n",
    "        Q_seq = K.dot(Q_seq, self.WQ)\n",
    "        Q_seq = K.reshape(Q_seq, (-1, K.shape(Q_seq)[1], self.nb_head, self.size_per_head))\n",
    "        Q_seq = K.permute_dimensions(Q_seq, (0,2,1,3))\n",
    "        K_seq = K.dot(K_seq, self.WK)\n",
    "        K_seq = K.reshape(K_seq, (-1, K.shape(K_seq)[1], self.nb_head, self.size_per_head))\n",
    "        K_seq = K.permute_dimensions(K_seq, (0,2,1,3))\n",
    "        V_seq = K.dot(V_seq, self.WV)\n",
    "        V_seq = K.reshape(V_seq, (-1, K.shape(V_seq)[1], self.nb_head, self.size_per_head))\n",
    "        V_seq = K.permute_dimensions(V_seq, (0,2,1,3))\n",
    "        A = K.batch_dot(Q_seq, K_seq, axes=[3,3]) / self.size_per_head**0.5\n",
    "        A = K.permute_dimensions(A, (0,3,2,1))\n",
    "        A = self.Mask(A, V_len, 'add')\n",
    "        A = K.permute_dimensions(A, (0,3,2,1))  \n",
    "        A = K.softmax(A)\n",
    "        O_seq = K.batch_dot(A, V_seq, axes=[3,2])\n",
    "        O_seq = K.permute_dimensions(O_seq, (0,2,1,3))\n",
    "        O_seq = K.reshape(O_seq, (-1, K.shape(O_seq)[1], self.output_dim))\n",
    "        O_seq = self.Mask(O_seq, Q_len, 'mul')\n",
    "        return O_seq\n",
    "        \n",
    "    def compute_output_shape(self, input_shape):\n",
    "        return (input_shape[0][0], input_shape[0][1], self.output_dim)\n",
    "config = {\n",
    "    \"trainable\": False,\n",
    "    \"max_len\": 70,\n",
    "    \"max_features\": 95000,\n",
    "    \"embed_size\": 300,\n",
    "    \"units\": 64,\n",
    "    \"num_heads\": 8,\n",
    "    \"dr\": 0.5,\n",
    "    \"epochs\": 2,\n",
    "    \"model_checkpoint_path\": \"best_weights\",\n",
    "}"
   ]
  },
  {
   "cell_type": "code",
   "execution_count": 97,
   "metadata": {},
   "outputs": [
    {
     "ename": "ValueError",
     "evalue": "Layer weight shape (20270, 100) not compatible with provided weight shape (20270, 300)",
     "output_type": "error",
     "traceback": [
      "\u001b[1;31m---------------------------------------------------------------------------\u001b[0m",
      "\u001b[1;31mValueError\u001b[0m                                Traceback (most recent call last)",
      "\u001b[1;32m<ipython-input-97-0cb70887c123>\u001b[0m in \u001b[0;36m<module>\u001b[1;34m\u001b[0m\n\u001b[0;32m      6\u001b[0m     \u001b[0mlayers\u001b[0m\u001b[1;33m.\u001b[0m\u001b[0mDropout\u001b[0m\u001b[1;33m(\u001b[0m\u001b[1;36m0.2\u001b[0m\u001b[1;33m)\u001b[0m\u001b[1;33m,\u001b[0m\u001b[1;33m\u001b[0m\u001b[1;33m\u001b[0m\u001b[0m\n\u001b[0;32m      7\u001b[0m     \u001b[0mlayers\u001b[0m\u001b[1;33m.\u001b[0m\u001b[0mDense\u001b[0m\u001b[1;33m(\u001b[0m\u001b[1;36m30\u001b[0m\u001b[1;33m,\u001b[0m \u001b[0mactivation\u001b[0m\u001b[1;33m=\u001b[0m\u001b[1;34m'relu'\u001b[0m\u001b[1;33m)\u001b[0m\u001b[1;33m,\u001b[0m\u001b[1;33m\u001b[0m\u001b[1;33m\u001b[0m\u001b[0m\n\u001b[1;32m----> 8\u001b[1;33m     \u001b[0mlayers\u001b[0m\u001b[1;33m.\u001b[0m\u001b[0mDense\u001b[0m\u001b[1;33m(\u001b[0m\u001b[1;36m11\u001b[0m\u001b[1;33m,\u001b[0m \u001b[0mactivation\u001b[0m\u001b[1;33m=\u001b[0m\u001b[0mtf\u001b[0m\u001b[1;33m.\u001b[0m\u001b[0mkeras\u001b[0m\u001b[1;33m.\u001b[0m\u001b[0mactivations\u001b[0m\u001b[1;33m.\u001b[0m\u001b[0msoftmax\u001b[0m\u001b[1;33m)\u001b[0m\u001b[1;33m\u001b[0m\u001b[1;33m\u001b[0m\u001b[0m\n\u001b[0m\u001b[0;32m      9\u001b[0m ])\n",
      "\u001b[1;32m~\\Anaconda3\\lib\\site-packages\\tensorflow\\python\\training\\tracking\\base.py\u001b[0m in \u001b[0;36m_method_wrapper\u001b[1;34m(self, *args, **kwargs)\u001b[0m\n\u001b[0;32m    454\u001b[0m     \u001b[0mself\u001b[0m\u001b[1;33m.\u001b[0m\u001b[0m_self_setattr_tracking\u001b[0m \u001b[1;33m=\u001b[0m \u001b[1;32mFalse\u001b[0m  \u001b[1;31m# pylint: disable=protected-access\u001b[0m\u001b[1;33m\u001b[0m\u001b[1;33m\u001b[0m\u001b[0m\n\u001b[0;32m    455\u001b[0m     \u001b[1;32mtry\u001b[0m\u001b[1;33m:\u001b[0m\u001b[1;33m\u001b[0m\u001b[1;33m\u001b[0m\u001b[0m\n\u001b[1;32m--> 456\u001b[1;33m       \u001b[0mresult\u001b[0m \u001b[1;33m=\u001b[0m \u001b[0mmethod\u001b[0m\u001b[1;33m(\u001b[0m\u001b[0mself\u001b[0m\u001b[1;33m,\u001b[0m \u001b[1;33m*\u001b[0m\u001b[0margs\u001b[0m\u001b[1;33m,\u001b[0m \u001b[1;33m**\u001b[0m\u001b[0mkwargs\u001b[0m\u001b[1;33m)\u001b[0m\u001b[1;33m\u001b[0m\u001b[1;33m\u001b[0m\u001b[0m\n\u001b[0m\u001b[0;32m    457\u001b[0m     \u001b[1;32mfinally\u001b[0m\u001b[1;33m:\u001b[0m\u001b[1;33m\u001b[0m\u001b[1;33m\u001b[0m\u001b[0m\n\u001b[0;32m    458\u001b[0m       \u001b[0mself\u001b[0m\u001b[1;33m.\u001b[0m\u001b[0m_self_setattr_tracking\u001b[0m \u001b[1;33m=\u001b[0m \u001b[0mprevious_value\u001b[0m  \u001b[1;31m# pylint: disable=protected-access\u001b[0m\u001b[1;33m\u001b[0m\u001b[1;33m\u001b[0m\u001b[0m\n",
      "\u001b[1;32m~\\Anaconda3\\lib\\site-packages\\tensorflow\\python\\keras\\engine\\sequential.py\u001b[0m in \u001b[0;36m__init__\u001b[1;34m(self, layers, name)\u001b[0m\n\u001b[0;32m    127\u001b[0m       \u001b[0mtf_utils\u001b[0m\u001b[1;33m.\u001b[0m\u001b[0massert_no_legacy_layers\u001b[0m\u001b[1;33m(\u001b[0m\u001b[0mlayers\u001b[0m\u001b[1;33m)\u001b[0m\u001b[1;33m\u001b[0m\u001b[1;33m\u001b[0m\u001b[0m\n\u001b[0;32m    128\u001b[0m       \u001b[1;32mfor\u001b[0m \u001b[0mlayer\u001b[0m \u001b[1;32min\u001b[0m \u001b[0mlayers\u001b[0m\u001b[1;33m:\u001b[0m\u001b[1;33m\u001b[0m\u001b[1;33m\u001b[0m\u001b[0m\n\u001b[1;32m--> 129\u001b[1;33m         \u001b[0mself\u001b[0m\u001b[1;33m.\u001b[0m\u001b[0madd\u001b[0m\u001b[1;33m(\u001b[0m\u001b[0mlayer\u001b[0m\u001b[1;33m)\u001b[0m\u001b[1;33m\u001b[0m\u001b[1;33m\u001b[0m\u001b[0m\n\u001b[0m\u001b[0;32m    130\u001b[0m \u001b[1;33m\u001b[0m\u001b[0m\n\u001b[0;32m    131\u001b[0m   \u001b[1;33m@\u001b[0m\u001b[0mproperty\u001b[0m\u001b[1;33m\u001b[0m\u001b[1;33m\u001b[0m\u001b[0m\n",
      "\u001b[1;32m~\\Anaconda3\\lib\\site-packages\\tensorflow\\python\\training\\tracking\\base.py\u001b[0m in \u001b[0;36m_method_wrapper\u001b[1;34m(self, *args, **kwargs)\u001b[0m\n\u001b[0;32m    454\u001b[0m     \u001b[0mself\u001b[0m\u001b[1;33m.\u001b[0m\u001b[0m_self_setattr_tracking\u001b[0m \u001b[1;33m=\u001b[0m \u001b[1;32mFalse\u001b[0m  \u001b[1;31m# pylint: disable=protected-access\u001b[0m\u001b[1;33m\u001b[0m\u001b[1;33m\u001b[0m\u001b[0m\n\u001b[0;32m    455\u001b[0m     \u001b[1;32mtry\u001b[0m\u001b[1;33m:\u001b[0m\u001b[1;33m\u001b[0m\u001b[1;33m\u001b[0m\u001b[0m\n\u001b[1;32m--> 456\u001b[1;33m       \u001b[0mresult\u001b[0m \u001b[1;33m=\u001b[0m \u001b[0mmethod\u001b[0m\u001b[1;33m(\u001b[0m\u001b[0mself\u001b[0m\u001b[1;33m,\u001b[0m \u001b[1;33m*\u001b[0m\u001b[0margs\u001b[0m\u001b[1;33m,\u001b[0m \u001b[1;33m**\u001b[0m\u001b[0mkwargs\u001b[0m\u001b[1;33m)\u001b[0m\u001b[1;33m\u001b[0m\u001b[1;33m\u001b[0m\u001b[0m\n\u001b[0m\u001b[0;32m    457\u001b[0m     \u001b[1;32mfinally\u001b[0m\u001b[1;33m:\u001b[0m\u001b[1;33m\u001b[0m\u001b[1;33m\u001b[0m\u001b[0m\n\u001b[0;32m    458\u001b[0m       \u001b[0mself\u001b[0m\u001b[1;33m.\u001b[0m\u001b[0m_self_setattr_tracking\u001b[0m \u001b[1;33m=\u001b[0m \u001b[0mprevious_value\u001b[0m  \u001b[1;31m# pylint: disable=protected-access\u001b[0m\u001b[1;33m\u001b[0m\u001b[1;33m\u001b[0m\u001b[0m\n",
      "\u001b[1;32m~\\Anaconda3\\lib\\site-packages\\tensorflow\\python\\keras\\engine\\sequential.py\u001b[0m in \u001b[0;36madd\u001b[1;34m(self, layer)\u001b[0m\n\u001b[0;32m    196\u001b[0m           \u001b[1;31m# and create the node connecting the current layer\u001b[0m\u001b[1;33m\u001b[0m\u001b[1;33m\u001b[0m\u001b[1;33m\u001b[0m\u001b[0m\n\u001b[0;32m    197\u001b[0m           \u001b[1;31m# to the input layer we just created.\u001b[0m\u001b[1;33m\u001b[0m\u001b[1;33m\u001b[0m\u001b[1;33m\u001b[0m\u001b[0m\n\u001b[1;32m--> 198\u001b[1;33m           \u001b[0mlayer\u001b[0m\u001b[1;33m(\u001b[0m\u001b[0mx\u001b[0m\u001b[1;33m)\u001b[0m\u001b[1;33m\u001b[0m\u001b[1;33m\u001b[0m\u001b[0m\n\u001b[0m\u001b[0;32m    199\u001b[0m           \u001b[0mset_inputs\u001b[0m \u001b[1;33m=\u001b[0m \u001b[1;32mTrue\u001b[0m\u001b[1;33m\u001b[0m\u001b[1;33m\u001b[0m\u001b[0m\n\u001b[0;32m    200\u001b[0m \u001b[1;33m\u001b[0m\u001b[0m\n",
      "\u001b[1;32m~\\Anaconda3\\lib\\site-packages\\tensorflow\\python\\keras\\engine\\base_layer.py\u001b[0m in \u001b[0;36m__call__\u001b[1;34m(self, *args, **kwargs)\u001b[0m\n\u001b[0;32m    895\u001b[0m           \u001b[1;31m# Build layer if applicable (if the `build` method has been\u001b[0m\u001b[1;33m\u001b[0m\u001b[1;33m\u001b[0m\u001b[1;33m\u001b[0m\u001b[0m\n\u001b[0;32m    896\u001b[0m           \u001b[1;31m# overridden).\u001b[0m\u001b[1;33m\u001b[0m\u001b[1;33m\u001b[0m\u001b[1;33m\u001b[0m\u001b[0m\n\u001b[1;32m--> 897\u001b[1;33m           \u001b[0mself\u001b[0m\u001b[1;33m.\u001b[0m\u001b[0m_maybe_build\u001b[0m\u001b[1;33m(\u001b[0m\u001b[0minputs\u001b[0m\u001b[1;33m)\u001b[0m\u001b[1;33m\u001b[0m\u001b[1;33m\u001b[0m\u001b[0m\n\u001b[0m\u001b[0;32m    898\u001b[0m           \u001b[0mcast_inputs\u001b[0m \u001b[1;33m=\u001b[0m \u001b[0mself\u001b[0m\u001b[1;33m.\u001b[0m\u001b[0m_maybe_cast_inputs\u001b[0m\u001b[1;33m(\u001b[0m\u001b[0minputs\u001b[0m\u001b[1;33m)\u001b[0m\u001b[1;33m\u001b[0m\u001b[1;33m\u001b[0m\u001b[0m\n\u001b[0;32m    899\u001b[0m \u001b[1;33m\u001b[0m\u001b[0m\n",
      "\u001b[1;32m~\\Anaconda3\\lib\\site-packages\\tensorflow\\python\\keras\\engine\\base_layer.py\u001b[0m in \u001b[0;36m_maybe_build\u001b[1;34m(self, inputs)\u001b[0m\n\u001b[0;32m   2426\u001b[0m           \u001b[1;31m# Using `init_scope` since we want variable assignment in\u001b[0m\u001b[1;33m\u001b[0m\u001b[1;33m\u001b[0m\u001b[1;33m\u001b[0m\u001b[0m\n\u001b[0;32m   2427\u001b[0m           \u001b[1;31m# `set_weights` to be treated like variable initialization.\u001b[0m\u001b[1;33m\u001b[0m\u001b[1;33m\u001b[0m\u001b[1;33m\u001b[0m\u001b[0m\n\u001b[1;32m-> 2428\u001b[1;33m           \u001b[0mself\u001b[0m\u001b[1;33m.\u001b[0m\u001b[0mset_weights\u001b[0m\u001b[1;33m(\u001b[0m\u001b[0mself\u001b[0m\u001b[1;33m.\u001b[0m\u001b[0m_initial_weights\u001b[0m\u001b[1;33m)\u001b[0m\u001b[1;33m\u001b[0m\u001b[1;33m\u001b[0m\u001b[0m\n\u001b[0m\u001b[0;32m   2429\u001b[0m       \u001b[1;32melse\u001b[0m\u001b[1;33m:\u001b[0m\u001b[1;33m\u001b[0m\u001b[1;33m\u001b[0m\u001b[0m\n\u001b[0;32m   2430\u001b[0m         \u001b[0mself\u001b[0m\u001b[1;33m.\u001b[0m\u001b[0mset_weights\u001b[0m\u001b[1;33m(\u001b[0m\u001b[0mself\u001b[0m\u001b[1;33m.\u001b[0m\u001b[0m_initial_weights\u001b[0m\u001b[1;33m)\u001b[0m\u001b[1;33m\u001b[0m\u001b[1;33m\u001b[0m\u001b[0m\n",
      "\u001b[1;32m~\\Anaconda3\\lib\\site-packages\\tensorflow\\python\\keras\\engine\\base_layer.py\u001b[0m in \u001b[0;36mset_weights\u001b[1;34m(self, weights)\u001b[0m\n\u001b[0;32m   1538\u001b[0m           raise ValueError(\n\u001b[0;32m   1539\u001b[0m               \u001b[1;34m'Layer weight shape %s not compatible with provided weight '\u001b[0m\u001b[1;33m\u001b[0m\u001b[1;33m\u001b[0m\u001b[0m\n\u001b[1;32m-> 1540\u001b[1;33m               'shape %s' % (ref_shape, weight.shape))\n\u001b[0m\u001b[0;32m   1541\u001b[0m         \u001b[0mweight_value_tuples\u001b[0m\u001b[1;33m.\u001b[0m\u001b[0mappend\u001b[0m\u001b[1;33m(\u001b[0m\u001b[1;33m(\u001b[0m\u001b[0mparam\u001b[0m\u001b[1;33m,\u001b[0m \u001b[0mweight\u001b[0m\u001b[1;33m)\u001b[0m\u001b[1;33m)\u001b[0m\u001b[1;33m\u001b[0m\u001b[1;33m\u001b[0m\u001b[0m\n\u001b[0;32m   1542\u001b[0m         \u001b[0mweight_index\u001b[0m \u001b[1;33m+=\u001b[0m \u001b[1;36m1\u001b[0m\u001b[1;33m\u001b[0m\u001b[1;33m\u001b[0m\u001b[0m\n",
      "\u001b[1;31mValueError\u001b[0m: Layer weight shape (20270, 100) not compatible with provided weight shape (20270, 300)"
     ]
    }
   ],
   "source": [
    "model_trans = tf.keras.Sequential([\n",
    "    layers.Embedding(len(word_index2)+1,100, input_length=212, weights=[embedding_matrix], trainable=False),  \n",
    "    Position_Embedding(),\n",
    "    Attention(nb_head=8, size_per_head=64),\n",
    "    layers.GlobalMaxPool1D(),\n",
    "    layers.Dropout(0.2),\n",
    "    layers.Dense(30, activation='relu'),\n",
    "    layers.Dense(11, activation=tf.keras.activations.softmax)\n",
    "])"
   ]
  },
  {
   "cell_type": "code",
   "execution_count": null,
   "metadata": {},
   "outputs": [],
   "source": [
    "model_trans.compile(optimizer=tf.keras.optimizers.Adam(), loss=tf.keras.losses.sparse_categorical_crossentropy, metrics=['accuracy'])"
   ]
  },
  {
   "cell_type": "code",
   "execution_count": null,
   "metadata": {},
   "outputs": [],
   "source": [
    "model_trans.fit(X_train, y_train, epochs=5)"
   ]
  },
  {
   "cell_type": "code",
   "execution_count": null,
   "metadata": {},
   "outputs": [],
   "source": []
  },
  {
   "cell_type": "code",
   "execution_count": null,
   "metadata": {},
   "outputs": [],
   "source": []
  }
 ],
 "metadata": {
  "kernelspec": {
   "display_name": "Python 3",
   "language": "python",
   "name": "python3"
  },
  "language_info": {
   "codemirror_mode": {
    "name": "ipython",
    "version": 3
   },
   "file_extension": ".py",
   "mimetype": "text/x-python",
   "name": "python",
   "nbconvert_exporter": "python",
   "pygments_lexer": "ipython3",
   "version": "3.7.4"
  }
 },
 "nbformat": 4,
 "nbformat_minor": 4
}
