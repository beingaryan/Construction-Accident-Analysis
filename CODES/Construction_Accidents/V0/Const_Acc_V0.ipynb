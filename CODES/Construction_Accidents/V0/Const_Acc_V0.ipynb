{
 "cells": [
  {
   "cell_type": "code",
   "execution_count": 1,
   "metadata": {},
   "outputs": [],
   "source": [
    "import os"
   ]
  },
  {
   "cell_type": "code",
   "execution_count": 2,
   "metadata": {},
   "outputs": [
    {
     "name": "stdout",
     "output_type": "stream",
     "text": [
      "['.ipynb_checkpoints', 'Bayes_rule-300x172.webp', 'datasets_4133_8841_sample.csv', 'debug.log', 'DEEP LEARNING.pptx', 'images.png', 'images1.jpg', 'LAT PROG', 'NLP (2).ipynb', 'NLP.ipynb', 'osha.xlsx', 'Project_Accidents.ipynb', 'Research Paper.pdf', 'SPACY CHEATSHEET.png', 'tagged1000.csv', 'Text Analysis - Copy.pptx', 'Text Analysis.pptx', 'TFIDF.png', 'trf_deep_learning.pdf', 'zhang2019(3).pdf', '~$Text Analysis.pptx']\n"
     ]
    }
   ],
   "source": [
    "print(os.listdir())"
   ]
  },
  {
   "cell_type": "code",
   "execution_count": 3,
   "metadata": {},
   "outputs": [
    {
     "name": "stderr",
     "output_type": "stream",
     "text": [
      "C:\\Users\\ryans\\Anaconda3\\lib\\site-packages\\numpy\\_distributor_init.py:32: UserWarning: loaded more than 1 DLL from .libs:\n",
      "C:\\Users\\ryans\\Anaconda3\\lib\\site-packages\\numpy\\.libs\\libopenblas.NOIJJG62EMASZI6NYURL6JBKM4EVBGM7.gfortran-win_amd64.dll\n",
      "C:\\Users\\ryans\\Anaconda3\\lib\\site-packages\\numpy\\.libs\\libopenblas.PYQHXLVVQ7VESDPUVUADXEVJOBGHJPAY.gfortran-win_amd64.dll\n",
      "  stacklevel=1)\n"
     ]
    }
   ],
   "source": [
    "import numpy as np"
   ]
  },
  {
   "cell_type": "code",
   "execution_count": 4,
   "metadata": {},
   "outputs": [],
   "source": [
    "import pandas as pd"
   ]
  },
  {
   "cell_type": "code",
   "execution_count": 5,
   "metadata": {},
   "outputs": [
    {
     "data": {
      "text/html": [
       "<div>\n",
       "<style scoped>\n",
       "    .dataframe tbody tr th:only-of-type {\n",
       "        vertical-align: middle;\n",
       "    }\n",
       "\n",
       "    .dataframe tbody tr th {\n",
       "        vertical-align: top;\n",
       "    }\n",
       "\n",
       "    .dataframe thead th {\n",
       "        text-align: right;\n",
       "    }\n",
       "</style>\n",
       "<table border=\"1\" class=\"dataframe\">\n",
       "  <thead>\n",
       "    <tr style=\"text-align: right;\">\n",
       "      <th></th>\n",
       "      <th>Unnamed: 0</th>\n",
       "      <th>id</th>\n",
       "      <th>title</th>\n",
       "      <th>Summary2</th>\n",
       "      <th>cause</th>\n",
       "      <th>newkeys</th>\n",
       "      <th>title.new</th>\n",
       "      <th>summary.new</th>\n",
       "      <th>Tagged2</th>\n",
       "    </tr>\n",
       "  </thead>\n",
       "  <tbody>\n",
       "    <tr>\n",
       "      <td>0</td>\n",
       "      <td>0</td>\n",
       "      <td>200361855</td>\n",
       "      <td>Two Workers Are Struck By Motor Vehicle And O...</td>\n",
       "      <td>On August 27 2013 Employees #1 and #2 of Templ...</td>\n",
       "      <td>Other</td>\n",
       "      <td>\\nconstruction, undrgrd power line, highway, ...</td>\n",
       "      <td>two workers are struck by motor vehicle and o...</td>\n",
       "      <td>On august 27 2013 employees #1 and #2 of templ...</td>\n",
       "      <td>traffic</td>\n",
       "    </tr>\n",
       "    <tr>\n",
       "      <td>1</td>\n",
       "      <td>1</td>\n",
       "      <td>202673471</td>\n",
       "      <td>Foreman Is Fatally Crushed When Forklift Tips...</td>\n",
       "      <td>At approximately 6:30 a.m. on May 13 2013 Empl...</td>\n",
       "      <td>[]</td>\n",
       "      <td>\\nconstruction, equipment operator, industria...</td>\n",
       "      <td>foreman is fatally crushed when forklift tips...</td>\n",
       "      <td>At approximately 6:30 a.m. on may 13 2013 empl...</td>\n",
       "      <td>collapse of object</td>\n",
       "    </tr>\n",
       "    <tr>\n",
       "      <td>2</td>\n",
       "      <td>2</td>\n",
       "      <td>202509832</td>\n",
       "      <td>Employee Suffers Abdominal Fracture In Fall F...</td>\n",
       "      <td>On April 9 2013 Employee #1 was installing vin...</td>\n",
       "      <td>Fall from/with ladder</td>\n",
       "      <td>\\ninstalling, ladder, scaffold, structure mov...</td>\n",
       "      <td>employee suffers abdominal fracture in fall f...</td>\n",
       "      <td>On april 9 2013 employee #1 was installing vin...</td>\n",
       "      <td>falls</td>\n",
       "    </tr>\n",
       "    <tr>\n",
       "      <td>3</td>\n",
       "      <td>3</td>\n",
       "      <td>201562840</td>\n",
       "      <td>Employee'S Body Is Caught In Asphalt Machine ...</td>\n",
       "      <td>On November 27 2012 Employee #1 was operating ...</td>\n",
       "      <td>Crushed/run</td>\n",
       "      <td>\\nasphalt, machine operator, caught by, cloth...</td>\n",
       "      <td>employee's body is caught in asphalt machine ...</td>\n",
       "      <td>On november 27 2012 employee #1 was operating ...</td>\n",
       "      <td>caught in/between objects</td>\n",
       "    </tr>\n",
       "    <tr>\n",
       "      <td>4</td>\n",
       "      <td>4</td>\n",
       "      <td>202478632</td>\n",
       "      <td>Employee Is Punctured In Abdomen With Nail</td>\n",
       "      <td>At approximately 11:57 a.m. on September 28 20...</td>\n",
       "      <td>Other</td>\n",
       "      <td>\\nslip, nail, puncture, abdomen, fall\\n</td>\n",
       "      <td>employee is punctured in abdomen with nail</td>\n",
       "      <td>At approximately 11:57 a.m. on september 28 20...</td>\n",
       "      <td>struck by moving objects</td>\n",
       "    </tr>\n",
       "  </tbody>\n",
       "</table>\n",
       "</div>"
      ],
      "text/plain": [
       "   Unnamed: 0         id                                              title  \\\n",
       "0           0  200361855   Two Workers Are Struck By Motor Vehicle And O...   \n",
       "1           1  202673471   Foreman Is Fatally Crushed When Forklift Tips...   \n",
       "2           2  202509832   Employee Suffers Abdominal Fracture In Fall F...   \n",
       "3           3  201562840   Employee'S Body Is Caught In Asphalt Machine ...   \n",
       "4           4  202478632        Employee Is Punctured In Abdomen With Nail    \n",
       "\n",
       "                                            Summary2                  cause  \\\n",
       "0  On August 27 2013 Employees #1 and #2 of Templ...                  Other   \n",
       "1  At approximately 6:30 a.m. on May 13 2013 Empl...                     []   \n",
       "2  On April 9 2013 Employee #1 was installing vin...  Fall from/with ladder   \n",
       "3  On November 27 2012 Employee #1 was operating ...            Crushed/run   \n",
       "4  At approximately 11:57 a.m. on September 28 20...                  Other   \n",
       "\n",
       "                                             newkeys  \\\n",
       "0   \\nconstruction, undrgrd power line, highway, ...   \n",
       "1   \\nconstruction, equipment operator, industria...   \n",
       "2   \\ninstalling, ladder, scaffold, structure mov...   \n",
       "3   \\nasphalt, machine operator, caught by, cloth...   \n",
       "4            \\nslip, nail, puncture, abdomen, fall\\n   \n",
       "\n",
       "                                           title.new  \\\n",
       "0   two workers are struck by motor vehicle and o...   \n",
       "1   foreman is fatally crushed when forklift tips...   \n",
       "2   employee suffers abdominal fracture in fall f...   \n",
       "3   employee's body is caught in asphalt machine ...   \n",
       "4        employee is punctured in abdomen with nail    \n",
       "\n",
       "                                         summary.new  \\\n",
       "0  On august 27 2013 employees #1 and #2 of templ...   \n",
       "1  At approximately 6:30 a.m. on may 13 2013 empl...   \n",
       "2  On april 9 2013 employee #1 was installing vin...   \n",
       "3  On november 27 2012 employee #1 was operating ...   \n",
       "4  At approximately 11:57 a.m. on september 28 20...   \n",
       "\n",
       "                     Tagged2  \n",
       "0                    traffic  \n",
       "1         collapse of object  \n",
       "2                      falls  \n",
       "3  caught in/between objects  \n",
       "4   struck by moving objects  "
      ]
     },
     "execution_count": 5,
     "metadata": {},
     "output_type": "execute_result"
    }
   ],
   "source": [
    "df=pd.read_csv('./tagged1000.csv')\n",
    "df.head()"
   ]
  },
  {
   "cell_type": "code",
   "execution_count": null,
   "metadata": {},
   "outputs": [],
   "source": []
  },
  {
   "cell_type": "code",
   "execution_count": null,
   "metadata": {},
   "outputs": [],
   "source": []
  },
  {
   "cell_type": "code",
   "execution_count": 6,
   "metadata": {},
   "outputs": [
    {
     "name": "stderr",
     "output_type": "stream",
     "text": [
      "Using TensorFlow backend.\n"
     ]
    },
    {
     "data": {
      "text/plain": [
       "0    on august   employees  and  of templar inc a c...\n",
       "1    at approximately  am on may   employee  a fore...\n",
       "2    on april   employee  was installing vinyl sidi...\n",
       "3    on november   employee  was operating an aspha...\n",
       "4    at approximately  am on september   employee  ...\n",
       "Name: punctr, dtype: object"
      ]
     },
     "execution_count": 6,
     "metadata": {},
     "output_type": "execute_result"
    }
   ],
   "source": [
    "#preprocessing of data\n",
    "import nltk\n",
    "import numpy as np\n",
    "import string\n",
    "from keras.preprocessing.text import text_to_word_sequence #for tokenization\n",
    "PUNCT_TO_REMOVE = string.punctuation #punctuation removal\n",
    "def remove_punctuation(text):\n",
    "    \"\"\"custom function to remove the punctuation\"\"\"\n",
    "    abc = text.translate(str.maketrans('', '', PUNCT_TO_REMOVE))\n",
    "    result = ''.join(i for i in abc if not i.isdigit()) #removal of numbers\n",
    "    return result\n",
    "\n",
    "df[\"punctr\"] = df[\"Summary2\"].apply(lambda text: remove_punctuation(text.lower())) #remove punctuation\n",
    "df['punctr'].head()"
   ]
  },
  {
   "cell_type": "code",
   "execution_count": 7,
   "metadata": {},
   "outputs": [
    {
     "data": {
      "text/plain": [
       "0    [employees, templar, inc, construction, compan...\n",
       "1    [approximately, employee, foreman, regularly, ...\n",
       "2    [employee, installing, vinyl, sidings, single,...\n",
       "3    [employee, operating, asphaltpulverizing, mach...\n",
       "4    [approximately, employee, working, coworker, j...\n",
       "Name: summ_wstp, dtype: object"
      ]
     },
     "execution_count": 7,
     "metadata": {},
     "output_type": "execute_result"
    }
   ],
   "source": [
    "def tokenize(text):#for tokenization\n",
    "    tokens = text_to_word_sequence(text)\n",
    "    return tokens\n",
    "df['clean_tokens_summ']=df['punctr'].apply(lambda x: tokenize(x.lower()))\n",
    "df['clean_tokens_cause']=df['cause'].apply(lambda x: tokenize(x.lower()))\n",
    "import nltk\n",
    "#stopwords removal\n",
    "STOPWORDS = nltk.corpus.stopwords.words('english')+['june','january','february','march','april','may','july','august','september','october','november','december']\n",
    "def remove_stopwords(text):\n",
    "    cleantext = [word for word in text if word not in STOPWORDS]\n",
    "    return cleantext\n",
    "df[\"summ_wstp\"] = df[\"clean_tokens_summ\"].apply(lambda text: remove_stopwords(text))\n",
    "df['summ_wstp'].head()"
   ]
  },
  {
   "cell_type": "code",
   "execution_count": 8,
   "metadata": {},
   "outputs": [
    {
     "data": {
      "text/plain": [
       "['employees',\n",
       " 'templar',\n",
       " 'inc',\n",
       " 'construction',\n",
       " 'company',\n",
       " 'specializing',\n",
       " 'fiber',\n",
       " 'optic',\n",
       " 'installation',\n",
       " 'services',\n",
       " 'working',\n",
       " 'along',\n",
       " 'highway',\n",
       " 'highway',\n",
       " 'speed',\n",
       " 'limit',\n",
       " 'posted',\n",
       " 'miles',\n",
       " 'per',\n",
       " 'hour',\n",
       " 'employee',\n",
       " 'marking',\n",
       " 'location',\n",
       " 'underground',\n",
       " 'line',\n",
       " 'ran',\n",
       " 'turn',\n",
       " 'lane',\n",
       " 'employee',\n",
       " 'next',\n",
       " 'employee',\n",
       " 'performing',\n",
       " 'duties',\n",
       " 'flagger',\n",
       " 'privately',\n",
       " 'owned',\n",
       " 'vehicle',\n",
       " 'travelling',\n",
       " 'travelthrough',\n",
       " 'lane',\n",
       " 'vehicle',\n",
       " 'veered',\n",
       " 'right',\n",
       " 'entered',\n",
       " 'turn',\n",
       " 'lane',\n",
       " 'struck',\n",
       " 'workers',\n",
       " 'emergency',\n",
       " 'medical',\n",
       " 'services',\n",
       " 'called',\n",
       " 'employee',\n",
       " 'declared',\n",
       " 'dead',\n",
       " 'scene',\n",
       " 'employee',\n",
       " 'refused',\n",
       " 'emergency',\n",
       " 'medical',\n",
       " 'treatment',\n",
       " 'bruises',\n",
       " 'received',\n",
       " 'struck']"
      ]
     },
     "execution_count": 8,
     "metadata": {},
     "output_type": "execute_result"
    }
   ],
   "source": [
    "df['summ_wstp'][0]"
   ]
  },
  {
   "cell_type": "code",
   "execution_count": 9,
   "metadata": {},
   "outputs": [
    {
     "data": {
      "text/plain": [
       "[('employees', 'NNS'),\n",
       " ('templar', 'VBP'),\n",
       " ('inc', 'JJ'),\n",
       " ('construction', 'NN'),\n",
       " ('company', 'NN'),\n",
       " ('specializing', 'VBG'),\n",
       " ('fiber', 'NNP'),\n",
       " ('optic', 'JJ'),\n",
       " ('installation', 'NN'),\n",
       " ('services', 'NNS'),\n",
       " ('working', 'VBG'),\n",
       " ('along', 'RB'),\n",
       " ('highway', 'RB'),\n",
       " ('highway', 'JJ'),\n",
       " ('speed', 'NN'),\n",
       " ('limit', 'NN'),\n",
       " ('posted', 'VBD'),\n",
       " ('miles', 'NNS'),\n",
       " ('per', 'IN'),\n",
       " ('hour', 'NN'),\n",
       " ('employee', 'NN'),\n",
       " ('marking', 'VBG'),\n",
       " ('location', 'NN'),\n",
       " ('underground', 'JJ'),\n",
       " ('line', 'NN'),\n",
       " ('ran', 'VBD'),\n",
       " ('turn', 'NN'),\n",
       " ('lane', 'NN'),\n",
       " ('employee', 'NN'),\n",
       " ('next', 'IN'),\n",
       " ('employee', 'NN'),\n",
       " ('performing', 'VBG'),\n",
       " ('duties', 'NNS'),\n",
       " ('flagger', 'RBR'),\n",
       " ('privately', 'RB'),\n",
       " ('owned', 'VBN'),\n",
       " ('vehicle', 'NN'),\n",
       " ('travelling', 'VBG'),\n",
       " ('travelthrough', 'IN'),\n",
       " ('lane', 'NN'),\n",
       " ('vehicle', 'NN'),\n",
       " ('veered', 'VBD'),\n",
       " ('right', 'RB'),\n",
       " ('entered', 'VBN'),\n",
       " ('turn', 'VBP'),\n",
       " ('lane', 'JJ'),\n",
       " ('struck', 'JJ'),\n",
       " ('workers', 'NNS'),\n",
       " ('emergency', 'NN'),\n",
       " ('medical', 'JJ'),\n",
       " ('services', 'NNS'),\n",
       " ('called', 'VBN'),\n",
       " ('employee', 'NN'),\n",
       " ('declared', 'VBN'),\n",
       " ('dead', 'JJ'),\n",
       " ('scene', 'NN'),\n",
       " ('employee', 'NN'),\n",
       " ('refused', 'VBD'),\n",
       " ('emergency', 'NN'),\n",
       " ('medical', 'JJ'),\n",
       " ('treatment', 'NN'),\n",
       " ('bruises', 'NNS'),\n",
       " ('received', 'VBD'),\n",
       " ('struck', 'NN')]"
      ]
     },
     "execution_count": 9,
     "metadata": {},
     "output_type": "execute_result"
    }
   ],
   "source": [
    "#POS TAGGING\n",
    "import nltk\n",
    "from nltk import word_tokenize\n",
    "def pos(text):\n",
    "    post = nltk.pos_tag(text)\n",
    "    return post\n",
    "df[\"summ_post\"] = df[\"summ_wstp\"].apply(lambda text: pos(text))\n",
    "df['summ_post'][0]"
   ]
  },
  {
   "cell_type": "code",
   "execution_count": 10,
   "metadata": {},
   "outputs": [],
   "source": [
    "#lemmatization\n",
    "from nltk import WordNetLemmatizer\n",
    "lemmatizer = WordNetLemmatizer()\n",
    "def lemmatize_words(text):#lemmatization\n",
    "    ne = []\n",
    "    for w in text:\n",
    "        ne.append((lemmatizer.lemmatize(w[0]),w[1]))\n",
    "    return ne\n",
    "df[\"summ_lmt\"] = df[\"summ_post\"].apply(lambda text: lemmatize_words(text))"
   ]
  },
  {
   "cell_type": "code",
   "execution_count": 11,
   "metadata": {},
   "outputs": [],
   "source": [
    "def wordpos(d):\n",
    "    ne = []\n",
    "    for w in d:\n",
    "        ne.append(w[0]+'/'+w[1])\n",
    "    return ne\n",
    "df['summ_final']= df['summ_lmt'].apply(lambda a: wordpos(a))"
   ]
  },
  {
   "cell_type": "code",
   "execution_count": 12,
   "metadata": {
    "scrolled": true
   },
   "outputs": [
    {
     "data": {
      "text/plain": [
       "0    [employee/NNS, templar/VBP, inc/JJ, constructi...\n",
       "1    [approximately/RB, employee/NN, foreman/NNS, r...\n",
       "2    [employee/NN, installing/VBG, vinyl/JJ, siding...\n",
       "3    [employee/NN, operating/VBG, asphaltpulverizin...\n",
       "4    [approximately/RB, employee/NN, working/VBG, c...\n",
       "Name: summ_final, dtype: object"
      ]
     },
     "execution_count": 12,
     "metadata": {},
     "output_type": "execute_result"
    }
   ],
   "source": [
    "# arr=df['summ_post'].to_numpy()\n",
    "# # arr.flatten()\n",
    "# printarr\n",
    "df['summ_final'].head()\n",
    "#df['summ_lmt'].iloc[8]"
   ]
  },
  {
   "cell_type": "code",
   "execution_count": 13,
   "metadata": {},
   "outputs": [],
   "source": [
    "# def remove_punc(text):\n",
    "#     \"\"\"custom function to remove the punctuation\"\"\"\n",
    "#     abc = text.translate(str.maketrans('', '',' PUNCT_TO_REMOVE'))\n",
    "#     result = ''.join(i for i in abc if not i.isdigit()) #removal of numbers\n",
    "#     return result\n",
    "\n",
    "def word2sent(d):\n",
    "    return ' '.join(d)\n",
    "df['summ_final'] = df['summ_final'].apply(lambda a: word2sent(a))"
   ]
  },
  {
   "cell_type": "code",
   "execution_count": 14,
   "metadata": {},
   "outputs": [
    {
     "data": {
      "text/plain": [
       "0                               traffic\n",
       "1                    collapse of object\n",
       "2                                 falls\n",
       "3             caught in/between objects\n",
       "4              struck by moving objects\n",
       "16                               others\n",
       "29      exposure to chemical substances\n",
       "32                  fires and explosion\n",
       "45                        electrocution\n",
       "153            struck by falling object\n",
       "218    exposure to extreme temperatures\n",
       "Name: Tagged2, dtype: object"
      ]
     },
     "execution_count": 14,
     "metadata": {},
     "output_type": "execute_result"
    }
   ],
   "source": [
    "df.Tagged2.drop_duplicates()"
   ]
  },
  {
   "cell_type": "code",
   "execution_count": 15,
   "metadata": {},
   "outputs": [
    {
     "name": "stdout",
     "output_type": "stream",
     "text": [
      "[10  1  5  0  9  5  1  0  5 10  5  1  1  5  5  9  7  1  9  7  9  0  9  9\n",
      "  9  0 10  5  7  3  9  9  6  6  6  6  6  1  6  1  6  1  1  1  1  2  5  9\n",
      "  1  1  1  0  7  9  5  5  5  2  5  7  0  0  0  0  0  0  0  0  0  1  5  9\n",
      "  7  5  5  5  9  5  2  2  9  7  3  6  5  3  6  3  0  5  5  5  5  5  5  5\n",
      "  1  9  9 10  9  1  2  2  9 10  2 10 10 10 10 10 10 10 10 10  7  6  6  5\n",
      "  7  3  7  6  1  3  0  0  9  0  9  5  5  5  5  5  5  5  5  5  1  5  1  5\n",
      "  5  2  5  5  7  3  3  5  9  8  5  1  1  5  5  1  5  9  5  1  5  8  5  5\n",
      "  5  5  6  6  6  6  6  6  2  2  9  6  3  3  3  9  1  6  2  2  2  9  9  1\n",
      "  1  1  1  1  5  1  5  8  5  5  9  0  5  5  7  2  7  5  3  5  5  5  1  3\n",
      "  2  2  4  7  7  4 10 10  4  4  5 10  4 10  4  4 10  8  1  1  0  1  0  9\n",
      "  1  5  9  6  5  5  8  2  5  9  2  2  5  5  2  5  5  5  6  5  9  0  9  0\n",
      "  9  0  0  0  1 10 10  1  5  5  9  8  5  5  9  7  8 10 10  7  9 10 10  0\n",
      "  1  0  0  7 10  9  9  9  9  9  9  9  0  9  8  9  9  9  9  2 10  9  2  2\n",
      "  0  1  8  1  0  8  9  9  0  9  9  8  9 10 10 10  0  2  2  2  2  2  7  9\n",
      "  7  5  9  5 10  5  5  9  5 10  9  3  5  1  9  5  5  8  5  8  1  9  5  7\n",
      "  9  7  1  0  9  1  9  9  1  1  7  6  4  9  9  2  1  9  3  3  3  0  0  2\n",
      "  5  2  2  8  1  8  1  1  1  9  9  9  9  8  9  9  5  6  5  5  9  3  1  5\n",
      "  9  5  1  9  5  5  5  5  5  5  1  5  8  5  1  5  1  1  5  5  9  6  2  8\n",
      "  2  0  2 10  2  9  9  2  7  8  8  8  1  8  8  0  2  1  2  1  9  2  0  8\n",
      "  9  9  5  9  0  0  0  9  5  1  5  1  1  1  1  1  1  9  1  9  9  9  8  9\n",
      "  8  1  0  0  5  1  8  1  2  2  9  9  1  7  1  1  1  1  1  5  1  9  1  1\n",
      "  1  1  1  1  1  1  1  5  5  9  5  7  5 10  2  9  2  6  5  1  7  5  7  5\n",
      "  5  4  1  5  5  5  1  0 10  3  2  9  1  5 10  5  5  0  5  5  8  5  5  1\n",
      "  5  1  9  9  1  1  5 10  5  9  8  5  1  1  1  2  2  0  6  1  2  1  7  7\n",
      "  2  3  0  5  1  1  5  0  0  5  8  9  9  9  1  5  8  1  1  7  7  2  5  5\n",
      "  5  8  1  1  5  5  1  5  1  5  2  5  5  1  5  1 10  9  1  1  1  1  2  0\n",
      "  2  2  2  3  9  9  0  5  5  5  5  1  5  8  5  0  0 10  5  1  5  1  9  9\n",
      "  5  2  2  4  5  5  6  9  6  6  3  1  1  9  1  1  1  9  5  5  0  1  1 10\n",
      "  5  5  5  7 10  2  5  9  0  1  0  1 10  9  0 10  9  2  2  2  2  2  5  2\n",
      "  2  2  2  2  7  2  2  2  9  2  2  2  2  2  5  5  9 10 10  0  1  3  3  3\n",
      "  6  2 10  6 10  5  5  5  1  6  6  1  1  5  9  7 10  1  0  4  5  4  5  2\n",
      "  6  4  5  1  9  1  3  3  6  2  2  2  1  2  2  2  7  2  5  1  8  8  1  9\n",
      "  6  5  5  1  1  1  7  2  5  2  2  9 10  8  9  5  8  2  2  5  3  5  5  5\n",
      "  1  5  9  4  6  5 10  1  1  6  5  5  1  5  1 10  1  4  1  6  1  1  5  5\n",
      "  5  8  1  1  9  5  5  5  2  9  1  1  9  1  1  2  2  2  7  5  3  6  9  1\n",
      "  5  1  2  5 10  6  5  0 10  6  9  6  1  5  1  9  5  5  5  5  5  5  6  0\n",
      "  1  5  5  1  1  1  1  5  5  1  5 10  1  5  1  1 10  1  9  7  5  9  1  5\n",
      "  1  0  1  5  9  5  1  0  1 10  9  0  5  2  2  2  5  2  1  6  1  1  2  7\n",
      "  2  2  2 10  4  0  0  9  6  1 10 10 10 10  2  1  1  1  2  9  5  1  4  5\n",
      "  5  5  2  1  1  1  1  5  9  2  7  1  5  5  5  2  1  1  5  1  1  1  5  1\n",
      "  1  5  1 10  1  5  5  1  5  5  1 10  8  5  5  5  5  5  1  1  1  1  1  7\n",
      "  5  5  8  1  8  1  1  1  8  8  7  1  1  1  1  9]\n"
     ]
    }
   ],
   "source": [
    "from sklearn.preprocessing import LabelEncoder\n",
    "le=LabelEncoder()\n",
    "y_tfidf = le.fit_transform(df['Tagged2']) #y_dependent\n",
    "print(y_tfidf)\n",
    "# y_tfidf.shape"
   ]
  },
  {
   "cell_type": "code",
   "execution_count": 16,
   "metadata": {},
   "outputs": [
    {
     "data": {
      "text/plain": [
       "0    employee/NNS templar/VBP inc/JJ construction/N...\n",
       "1    approximately/RB employee/NN foreman/NNS regul...\n",
       "2    employee/NN installing/VBG vinyl/JJ siding/NNS...\n",
       "3    employee/NN operating/VBG asphaltpulverizing/V...\n",
       "4    approximately/RB employee/NN working/VBG cowor...\n",
       "Name: summ_final, dtype: object"
      ]
     },
     "execution_count": 16,
     "metadata": {},
     "output_type": "execute_result"
    }
   ],
   "source": [
    "df['summ_final'].head()\n",
    "# corpus = df['summ_final']\n",
    "# from sklearn.feature_extraction.text import TfidfVectorizer\n",
    "# tfidf  = TfidfVectorizer()\n",
    "# corpus = tfidf.fit_transform(corpus)"
   ]
  },
  {
   "cell_type": "code",
   "execution_count": 89,
   "metadata": {},
   "outputs": [
    {
     "name": "stdout",
     "output_type": "stream",
     "text": [
      "  (0, 4165)\t0.0716538545516024\n",
      "  (0, 609)\t0.09793603503687141\n",
      "  (0, 5542)\t0.0679204878897774\n",
      "  (0, 4223)\t0.13435050879521274\n",
      "  (0, 4548)\t0.0792460939089088\n",
      "  (0, 1290)\t0.07307374793968979\n",
      "  (0, 1305)\t0.11763501439836946\n",
      "  (0, 687)\t0.06837929932713582\n",
      "  (0, 3202)\t0.11879867711205097\n",
      "  (0, 1668)\t0.12415151019432534\n",
      "  (0, 5989)\t0.06458998933503964\n",
      "  (0, 5124)\t0.10671855481854507\n",
      "  (0, 1720)\t0.0917481978987332\n",
      "  (0, 4403)\t0.05757266781629139\n",
      "  (0, 5786)\t0.12867511612050153\n",
      "  (0, 5534)\t0.14234952550416582\n",
      "  (0, 5533)\t0.12427293955890861\n",
      "  (0, 5789)\t0.1717680381388959\n",
      "  (0, 5782)\t0.09455487001729775\n",
      "  (0, 3633)\t0.12067609941154843\n",
      "  (0, 3978)\t0.13435050879521274\n",
      "  (0, 4133)\t0.06933023051736047\n",
      "  (0, 2001)\t0.11763501439836946\n",
      "  (0, 1592)\t0.0917481978987332\n",
      "  (0, 3743)\t0.07428816221313464\n",
      "  :\t:\n",
      "  (0, 3253)\t0.11500070673683722\n",
      "  (0, 5780)\t0.0995308972711964\n",
      "  (0, 3899)\t0.13435050879521274\n",
      "  (0, 3002)\t0.12067609941154843\n",
      "  (0, 4943)\t0.11267708270259531\n",
      "  (0, 2435)\t0.1717680381388959\n",
      "  (0, 4132)\t0.0956193032190986\n",
      "  (0, 153)\t0.08374918118978009\n",
      "  (0, 5990)\t0.03984813518591268\n",
      "  (0, 4648)\t0.12060613840436005\n",
      "  (0, 2671)\t0.08374918118978009\n",
      "  (0, 3576)\t0.12427293955890861\n",
      "  (0, 3439)\t0.0889251040826269\n",
      "  (0, 1941)\t0.12067609941154843\n",
      "  (0, 5781)\t0.10204864531470835\n",
      "  (0, 4934)\t0.11267708270259531\n",
      "  (0, 1003)\t0.0634730116467309\n",
      "  (0, 3438)\t0.4537440599126539\n",
      "  (0, 1082)\t0.05034918690773983\n",
      "  (0, 2775)\t0.18113543515346459\n",
      "  (0, 2579)\t0.061412566511752455\n",
      "  (0, 5783)\t0.0630837013165679\n",
      "  (0, 5330)\t0.14234952550416582\n",
      "  (0, 3440)\t0.15324500191201057\n",
      "  (0, 1674)\t0.1206363576595839\n"
     ]
    }
   ],
   "source": [
    "from sklearn.feature_extraction.text import TfidfVectorizer\n",
    "tfidf  = TfidfVectorizer(ngram_range=(1, 1))\n",
    "X_tfidf = tfidf.fit_transform(df['summ_final'])\n",
    "print(X_tfidf[0])\n",
    "#independent data"
   ]
  },
  {
   "cell_type": "code",
   "execution_count": 90,
   "metadata": {},
   "outputs": [
    {
     "data": {
      "text/plain": [
       "0    [(employees, NNS), (templar, VBP), (inc, JJ), ...\n",
       "1    [(approximately, RB), (employee, NN), (foreman...\n",
       "2    [(employee, NN), (installing, VBG), (vinyl, JJ...\n",
       "3    [(employee, NN), (operating, VBG), (asphaltpul...\n",
       "4    [(approximately, RB), (employee, NN), (working...\n",
       "Name: summ_post, dtype: object"
      ]
     },
     "execution_count": 90,
     "metadata": {},
     "output_type": "execute_result"
    }
   ],
   "source": [
    "df['summ_post'].head()"
   ]
  },
  {
   "cell_type": "code",
   "execution_count": 91,
   "metadata": {},
   "outputs": [
    {
     "data": {
      "text/plain": [
       "[('employees', 'NNS'),\n",
       " ('templar', 'VBP'),\n",
       " ('inc', 'JJ'),\n",
       " ('construction', 'NN'),\n",
       " ('company', 'NN'),\n",
       " ('specializing', 'VBG'),\n",
       " ('fiber', 'NNP'),\n",
       " ('optic', 'JJ'),\n",
       " ('installation', 'NN'),\n",
       " ('services', 'NNS'),\n",
       " ('working', 'VBG'),\n",
       " ('along', 'RB'),\n",
       " ('highway', 'RB'),\n",
       " ('highway', 'JJ'),\n",
       " ('speed', 'NN'),\n",
       " ('limit', 'NN'),\n",
       " ('posted', 'VBD'),\n",
       " ('miles', 'NNS'),\n",
       " ('per', 'IN'),\n",
       " ('hour', 'NN'),\n",
       " ('employee', 'NN'),\n",
       " ('marking', 'VBG'),\n",
       " ('location', 'NN'),\n",
       " ('underground', 'JJ'),\n",
       " ('line', 'NN'),\n",
       " ('ran', 'VBD'),\n",
       " ('turn', 'NN'),\n",
       " ('lane', 'NN'),\n",
       " ('employee', 'NN'),\n",
       " ('next', 'IN'),\n",
       " ('employee', 'NN'),\n",
       " ('performing', 'VBG'),\n",
       " ('duties', 'NNS'),\n",
       " ('flagger', 'RBR'),\n",
       " ('privately', 'RB'),\n",
       " ('owned', 'VBN'),\n",
       " ('vehicle', 'NN'),\n",
       " ('travelling', 'VBG'),\n",
       " ('travelthrough', 'IN'),\n",
       " ('lane', 'NN'),\n",
       " ('vehicle', 'NN'),\n",
       " ('veered', 'VBD'),\n",
       " ('right', 'RB'),\n",
       " ('entered', 'VBN'),\n",
       " ('turn', 'VBP'),\n",
       " ('lane', 'JJ'),\n",
       " ('struck', 'JJ'),\n",
       " ('workers', 'NNS'),\n",
       " ('emergency', 'NN'),\n",
       " ('medical', 'JJ'),\n",
       " ('services', 'NNS'),\n",
       " ('called', 'VBN'),\n",
       " ('employee', 'NN'),\n",
       " ('declared', 'VBN'),\n",
       " ('dead', 'JJ'),\n",
       " ('scene', 'NN'),\n",
       " ('employee', 'NN'),\n",
       " ('refused', 'VBD'),\n",
       " ('emergency', 'NN'),\n",
       " ('medical', 'JJ'),\n",
       " ('treatment', 'NN'),\n",
       " ('bruises', 'NNS'),\n",
       " ('received', 'VBD'),\n",
       " ('struck', 'NN')]"
      ]
     },
     "execution_count": 91,
     "metadata": {},
     "output_type": "execute_result"
    }
   ],
   "source": [
    "df['summ_post'][0]"
   ]
  },
  {
   "cell_type": "code",
   "execution_count": 92,
   "metadata": {},
   "outputs": [],
   "source": [
    "# from sklearn.preprocessing import LabelEncoder\n",
    "\n",
    "\n",
    "\n",
    "\n",
    "\n",
    "\n",
    "\n",
    "# import nltk\n",
    "# import string\n",
    "\n",
    "# def tokenize(text):\n",
    "#     stem = nltk.stem.SnowballStemmer('english')\n",
    "#     text = text.lower()\n",
    "\n",
    "#     for token in nltk.word_tokenize(text):\n",
    "#         if token in string.punctuation: continue\n",
    "#         yield stem.stem(token)\n",
    "\n",
    "# corpus = [\n",
    "#     \"The elephant sneezed at the sight of potatoes.\",\n",
    "#     \"Bats can see via echolocation. See the bat sight sneeze!\",\n",
    "#     \"Wondering, she opened the door to the studio.\",\n",
    "# ]\n",
    "\n",
    "\n"
   ]
  },
  {
   "cell_type": "code",
   "execution_count": 93,
   "metadata": {},
   "outputs": [],
   "source": [
    "# from sklearn.feature_extraction.text import TfidfVectorizer\n",
    "# tfidf  = TfidfVectorizer()\n",
    "# # corpus = [\n",
    "# #     \"The elephant sneezed at the sight of potatoes.\",\n",
    "# #     \"Bats can see via echolocation. See the bat sight sneeze!\",\n",
    "# #     \"Wondering, she opened the door to the studio.\",\n",
    "# # ]\n",
    "# corpus = tfidf.fit_transform(corpus)"
   ]
  },
  {
   "cell_type": "code",
   "execution_count": 94,
   "metadata": {},
   "outputs": [],
   "source": [
    "# print(corpus)"
   ]
  },
  {
   "cell_type": "code",
   "execution_count": 95,
   "metadata": {},
   "outputs": [],
   "source": [
    "# a=df['summ_tfidf'].iloc[0]\n",
    "# from scipy.sparse import csr_matrix\n",
    "# csr=csr_matrix(a.any())\n",
    "# csr.toarray()"
   ]
  },
  {
   "cell_type": "code",
   "execution_count": 96,
   "metadata": {},
   "outputs": [],
   "source": [
    "# corpus=df['summ_lmt'].head()"
   ]
  },
  {
   "cell_type": "code",
   "execution_count": 97,
   "metadata": {},
   "outputs": [],
   "source": [
    "# from sklearn.feature_extraction.text import TfidfVectorizer\n",
    "# tfidf  = TfidfVectorizer()"
   ]
  },
  {
   "cell_type": "code",
   "execution_count": 98,
   "metadata": {},
   "outputs": [],
   "source": [
    "# corpus = tfidf.fit_transform(corpus)"
   ]
  },
  {
   "cell_type": "code",
   "execution_count": 99,
   "metadata": {},
   "outputs": [],
   "source": [
    "# print(corpus[1])"
   ]
  },
  {
   "cell_type": "code",
   "execution_count": 100,
   "metadata": {},
   "outputs": [],
   "source": [
    "# def tokenize(text):#for tokenization\n",
    "#     tokens = text_to_word_sequence(text)\n",
    "#     return tokens\n",
    "# df['try']=corpus\n",
    "# # corpus.apply(lambda x: tokenize(x.lower()))\n",
    "# df['try']=df['try'].apply(lambda text: tokenize(text))"
   ]
  },
  {
   "cell_type": "code",
   "execution_count": 101,
   "metadata": {},
   "outputs": [
    {
     "data": {
      "text/plain": [
       "0     two workers are struck by motor vehicle and o...\n",
       "1     foreman is fatally crushed when forklift tips...\n",
       "2     employee suffers abdominal fracture in fall f...\n",
       "3     employees body is caught in asphalt machine  ...\n",
       "4          employee is punctured in abdomen with nail \n",
       "Name: tit_punctr, dtype: object"
      ]
     },
     "execution_count": 101,
     "metadata": {},
     "output_type": "execute_result"
    }
   ],
   "source": [
    "#preprocessing of data\n",
    "import nltk\n",
    "import numpy as np\n",
    "import string\n",
    "from keras.preprocessing.text import text_to_word_sequence #for tokenization\n",
    "PUNCT_TO_REMOVE = string.punctuation #punctuation removal\n",
    "def remove_punctuation(text):\n",
    "    \"\"\"custom function to remove the punctuation\"\"\"\n",
    "    abc = text.translate(str.maketrans('', '', PUNCT_TO_REMOVE))\n",
    "    result = ''.join(i for i in abc if not i.isdigit()) #removal of numbers\n",
    "    return result\n",
    "\n",
    "df[\"tit_punctr\"] = df[\"title\"].apply(lambda text: remove_punctuation(text.lower())) #remove punctuation\n",
    "df['tit_punctr'].head()"
   ]
  },
  {
   "cell_type": "code",
   "execution_count": 102,
   "metadata": {
    "scrolled": true
   },
   "outputs": [
    {
     "data": {
      "text/plain": [
       "0    [two, workers, struck, motor, vehicle, one, ki...\n",
       "1          [foreman, fatally, crushed, forklift, tips]\n",
       "2    [employee, suffers, abdominal, fracture, fall,...\n",
       "3    [employees, body, caught, asphalt, machine, dies]\n",
       "4                 [employee, punctured, abdomen, nail]\n",
       "Name: tit_wstp, dtype: object"
      ]
     },
     "execution_count": 102,
     "metadata": {},
     "output_type": "execute_result"
    }
   ],
   "source": [
    "def tokenize(text):#for tokenization\n",
    "    tokens = text_to_word_sequence(text)\n",
    "    return tokens\n",
    "df['clean_tokens_tit']=df['tit_punctr'].apply(lambda x: tokenize(x.lower()))\n",
    "# df['clean_tokens_cause']=df['cause'].apply(lambda x: tokenize(x.lower()))\n",
    "import nltk\n",
    "#stopwords removal\n",
    "STOPWORDS = nltk.corpus.stopwords.words('english')+['june','january','february','march','april','may','july','august','september','october','november','december']\n",
    "def remove_stopwords(text):\n",
    "    cleantext = [word for word in text if word not in STOPWORDS]\n",
    "    return cleantext\n",
    "df[\"tit_wstp\"] = df[\"clean_tokens_tit\"].apply(lambda text: remove_stopwords(text))\n",
    "df['tit_wstp'].head()"
   ]
  },
  {
   "cell_type": "code",
   "execution_count": 103,
   "metadata": {},
   "outputs": [
    {
     "data": {
      "text/plain": [
       "[('two', 'CD'),\n",
       " ('workers', 'NNS'),\n",
       " ('struck', 'VBD'),\n",
       " ('motor', 'NN'),\n",
       " ('vehicle', 'NN'),\n",
       " ('one', 'CD'),\n",
       " ('killed', 'VBN')]"
      ]
     },
     "execution_count": 103,
     "metadata": {},
     "output_type": "execute_result"
    }
   ],
   "source": [
    "import nltk\n",
    "from nltk import word_tokenize\n",
    "def pos(text):\n",
    "    post = nltk.pos_tag(text)\n",
    "    return post\n",
    "df[\"tit_post\"] = df[\"tit_wstp\"].apply(lambda text: pos(text))\n",
    "df['tit_post'][0]"
   ]
  },
  {
   "cell_type": "code",
   "execution_count": 104,
   "metadata": {},
   "outputs": [],
   "source": [
    "from nltk import WordNetLemmatizer\n",
    "lemmatizer = WordNetLemmatizer()\n",
    "def lemmatize_words(text):#lemmatization\n",
    "    ne = []\n",
    "    for w in text:\n",
    "        ne.append((lemmatizer.lemmatize(w[0]),w[1]))\n",
    "    return ne\n",
    "df[\"tit_lmt\"] = df[\"tit_post\"].apply(lambda text: lemmatize_words(text))"
   ]
  },
  {
   "cell_type": "code",
   "execution_count": 105,
   "metadata": {},
   "outputs": [
    {
     "data": {
      "text/plain": [
       "0    [(two, CD), (worker, NNS), (struck, VBD), (mot...\n",
       "1    [(foreman, NN), (fatally, RB), (crushed, VBD),...\n",
       "2    [(employee, NN), (suffers, NNS), (abdominal, J...\n",
       "3    [(employee, NNS), (body, VBP), (caught, JJ), (...\n",
       "4    [(employee, NN), (punctured, VBD), (abdomen, N...\n",
       "Name: tit_lmt, dtype: object"
      ]
     },
     "execution_count": 105,
     "metadata": {},
     "output_type": "execute_result"
    }
   ],
   "source": [
    "df[\"tit_lmt\"].head()   #preprocessing for extracting objects"
   ]
  },
  {
   "cell_type": "code",
   "execution_count": 106,
   "metadata": {
    "scrolled": false
   },
   "outputs": [
    {
     "data": {
      "text/plain": [
       "falls                               236\n",
       "collapse of object                  212\n",
       "struck by moving objects            134\n",
       "electrocution                       108\n",
       "caught in/between objects            68\n",
       "traffic                              63\n",
       "fires and explosion                  47\n",
       "struck by falling object             43\n",
       "others                               43\n",
       "exposure to chemical substances      29\n",
       "exposure to extreme temperatures     17\n",
       "Name: Tagged2, dtype: int64"
      ]
     },
     "execution_count": 106,
     "metadata": {},
     "output_type": "execute_result"
    }
   ],
   "source": [
    "df['Tagged2'].value_counts()"
   ]
  },
  {
   "cell_type": "code",
   "execution_count": 108,
   "metadata": {},
   "outputs": [],
   "source": [
    "from sklearn.model_selection import train_test_split\n",
    "X_train, X_test, y_train, y_test = train_test_split(X_tfidf, y_tfidf, test_size=0.20, random_state=42)"
   ]
  },
  {
   "cell_type": "code",
   "execution_count": 59,
   "metadata": {},
   "outputs": [],
   "source": [
    "# from sklearn.pipeline import make_pipeline\n",
    "# from sklearn.preprocessing import StandardScaler\n",
    "# from sklearn.svm import SVC\n",
    "from sklearn.svm import SVC # \"Support Vector Classifier\" \n",
    "clf = SVC(kernel='linear') \n",
    "clf.fit(X_train, y_train.ravel())\n",
    "y_predictor=clf.predict(X_test)"
   ]
  },
  {
   "cell_type": "code",
   "execution_count": 53,
   "metadata": {},
   "outputs": [
    {
     "data": {
      "text/plain": [
       "6"
      ]
     },
     "execution_count": 53,
     "metadata": {},
     "output_type": "execute_result"
    }
   ],
   "source": [
    "y_predictor[0]"
   ]
  },
  {
   "cell_type": "code",
   "execution_count": 60,
   "metadata": {},
   "outputs": [
    {
     "name": "stderr",
     "output_type": "stream",
     "text": [
      "C:\\Users\\ryans\\Anaconda3\\lib\\site-packages\\sklearn\\linear_model\\logistic.py:432: FutureWarning: Default solver will be changed to 'lbfgs' in 0.22. Specify a solver to silence this warning.\n",
      "  FutureWarning)\n",
      "C:\\Users\\ryans\\Anaconda3\\lib\\site-packages\\sklearn\\linear_model\\logistic.py:469: FutureWarning: Default multi_class will be changed to 'auto' in 0.22. Specify the multi_class option to silence this warning.\n",
      "  \"this warning.\", FutureWarning)\n"
     ]
    }
   ],
   "source": [
    "from sklearn.linear_model import LogisticRegression\n",
    "clf=LogisticRegression(random_state=0).fit(X_train, y_train)\n",
    "y_predictorlr=clf.predict(X_test)"
   ]
  },
  {
   "cell_type": "code",
   "execution_count": 110,
   "metadata": {},
   "outputs": [
    {
     "name": "stderr",
     "output_type": "stream",
     "text": [
      "C:\\Users\\ryans\\Anaconda3\\lib\\site-packages\\sklearn\\metrics\\classification.py:1437: UndefinedMetricWarning: F-score is ill-defined and being set to 0.0 in labels with no predicted samples.\n",
      "  'precision', 'predicted', average, warn_for)\n"
     ]
    },
    {
     "data": {
      "text/plain": [
       "0.4348205176700322"
      ]
     },
     "execution_count": 110,
     "metadata": {},
     "output_type": "execute_result"
    }
   ],
   "source": [
    "from sklearn.metrics import f1_score\n",
    "f1_score(y_test,y_predictortree,average='weighted')\n"
   ]
  },
  {
   "cell_type": "code",
   "execution_count": 109,
   "metadata": {},
   "outputs": [
    {
     "name": "stderr",
     "output_type": "stream",
     "text": [
      "C:\\Users\\ryans\\Anaconda3\\lib\\site-packages\\sklearn\\linear_model\\logistic.py:432: FutureWarning: Default solver will be changed to 'lbfgs' in 0.22. Specify a solver to silence this warning.\n",
      "  FutureWarning)\n",
      "C:\\Users\\ryans\\Anaconda3\\lib\\site-packages\\sklearn\\linear_model\\logistic.py:469: FutureWarning: Default multi_class will be changed to 'auto' in 0.22. Specify the multi_class option to silence this warning.\n",
      "  \"this warning.\", FutureWarning)\n"
     ]
    }
   ],
   "source": [
    "from sklearn import tree\n",
    "cldd = tree.DecisionTreeClassifier()\n",
    "cldd= clf.fit(X_train, y_train)\n",
    "y_predictortree=clf.predict(X_test)"
   ]
  },
  {
   "cell_type": "code",
   "execution_count": 85,
   "metadata": {},
   "outputs": [],
   "source": [
    "from sklearn.naive_bayes import GaussianNB\n",
    "gnb = GaussianNB()\n",
    "y_prednb = gnb.fit(X_train.toarray(), y_train).predict(X_test.toarray())"
   ]
  },
  {
   "cell_type": "code",
   "execution_count": 84,
   "metadata": {
    "scrolled": false
   },
   "outputs": [
    {
     "data": {
      "text/plain": [
       "0.48"
      ]
     },
     "execution_count": 84,
     "metadata": {},
     "output_type": "execute_result"
    }
   ],
   "source": [
    "modelacc"
   ]
  },
  {
   "cell_type": "code",
   "execution_count": 79,
   "metadata": {},
   "outputs": [],
   "source": [
    "from sklearn.neighbors import KNeighborsClassifier\n",
    "neigh = KNeighborsClassifier(n_neighbors=5)\n",
    "cld=neigh.fit(X_train, y_train)\n",
    "y_predictorknn=cld.predict(X_test)"
   ]
  },
  {
   "cell_type": "code",
   "execution_count": 83,
   "metadata": {},
   "outputs": [],
   "source": [
    "modelacc = round(clf.score(X_test, y_test), 2) "
   ]
  },
  {
   "cell_type": "code",
   "execution_count": 56,
   "metadata": {},
   "outputs": [
    {
     "ename": "NameError",
     "evalue": "name 'test' is not defined",
     "output_type": "error",
     "traceback": [
      "\u001b[1;31m---------------------------------------------------------------------------\u001b[0m",
      "\u001b[1;31mNameError\u001b[0m                                 Traceback (most recent call last)",
      "\u001b[1;32m<ipython-input-56-6caaab14b5ef>\u001b[0m in \u001b[0;36m<module>\u001b[1;34m\u001b[0m\n\u001b[1;32m----> 1\u001b[1;33m \u001b[0mtest\u001b[0m\u001b[1;33m[\u001b[0m\u001b[1;36m0\u001b[0m\u001b[1;33m]\u001b[0m\u001b[1;33m\u001b[0m\u001b[1;33m\u001b[0m\u001b[0m\n\u001b[0m",
      "\u001b[1;31mNameError\u001b[0m: name 'test' is not defined"
     ]
    }
   ],
   "source": [
    "test[0]"
   ]
  },
  {
   "cell_type": "code",
   "execution_count": 42,
   "metadata": {},
   "outputs": [
    {
     "data": {
      "text/plain": [
       "6"
      ]
     },
     "execution_count": 42,
     "metadata": {},
     "output_type": "execute_result"
    }
   ],
   "source": [
    "y_test[0]"
   ]
  },
  {
   "cell_type": "code",
   "execution_count": 43,
   "metadata": {},
   "outputs": [
    {
     "data": {
      "text/plain": [
       "array([[ 2,  9,  0,  0,  0,  2,  0,  0,  0, 16,  0],\n",
       "       [ 0, 41,  0,  0,  0, 19,  0,  0,  0,  2,  2],\n",
       "       [ 0,  2, 31,  0,  0,  2,  1,  0,  0,  2,  0],\n",
       "       [ 0,  5,  0,  0,  0,  1,  0,  0,  0,  0,  1],\n",
       "       [ 0,  3,  0,  0,  0,  3,  1,  0,  0,  1,  0],\n",
       "       [ 0,  9,  0,  0,  0, 65,  0,  0,  0,  0,  0],\n",
       "       [ 0,  3,  0,  0,  0,  2,  6,  0,  0,  4,  0],\n",
       "       [ 0,  7,  0,  0,  0,  6,  1,  0,  0,  5,  0],\n",
       "       [ 0, 11,  0,  0,  0,  1,  0,  0,  0,  1,  1],\n",
       "       [ 0, 15,  0,  0,  0,  3,  0,  0,  0, 24,  0],\n",
       "       [ 0,  9,  0,  0,  0,  1,  0,  0,  0,  1,  9]], dtype=int64)"
      ]
     },
     "execution_count": 43,
     "metadata": {},
     "output_type": "execute_result"
    }
   ],
   "source": [
    "from sklearn.metrics import confusion_matrix\n",
    "errors=confusion_matrix(y_test,y_predictor)\n",
    "errors"
   ]
  },
  {
   "cell_type": "code",
   "execution_count": 44,
   "metadata": {},
   "outputs": [],
   "source": [
    "import matplotlib.pyplot as plt\n",
    "import numpy as np\n",
    "%matplotlib inline"
   ]
  },
  {
   "cell_type": "code",
   "execution_count": 45,
   "metadata": {},
   "outputs": [],
   "source": [
    "X=X_test[:,0]\n",
    "y1=y_test\n",
    "y2=y_predictor\n"
   ]
  },
  {
   "cell_type": "code",
   "execution_count": null,
   "metadata": {},
   "outputs": [],
   "source": [
    "# X=X[:,1]\n",
    "# X.shape"
   ]
  },
  {
   "cell_type": "code",
   "execution_count": 46,
   "metadata": {},
   "outputs": [
    {
     "ename": "NameError",
     "evalue": "name 'Xt' is not defined",
     "output_type": "error",
     "traceback": [
      "\u001b[1;31m---------------------------------------------------------------------------\u001b[0m",
      "\u001b[1;31mNameError\u001b[0m                                 Traceback (most recent call last)",
      "\u001b[1;32m<ipython-input-46-8b796932a965>\u001b[0m in \u001b[0;36m<module>\u001b[1;34m\u001b[0m\n\u001b[1;32m----> 1\u001b[1;33m \u001b[0mXt\u001b[0m\u001b[1;33m\u001b[0m\u001b[1;33m\u001b[0m\u001b[0m\n\u001b[0m",
      "\u001b[1;31mNameError\u001b[0m: name 'Xt' is not defined"
     ]
    }
   ],
   "source": [
    "Xt"
   ]
  },
  {
   "cell_type": "code",
   "execution_count": 47,
   "metadata": {},
   "outputs": [],
   "source": [
    "Xt=[]\n",
    "for i in range(1,331):\n",
    "    Xt.append(i)\n",
    "    "
   ]
  },
  {
   "cell_type": "code",
   "execution_count": 48,
   "metadata": {},
   "outputs": [
    {
     "data": {
      "text/plain": [
       "<matplotlib.legend.Legend at 0x2a5fbd01748>"
      ]
     },
     "execution_count": 48,
     "metadata": {},
     "output_type": "execute_result"
    },
    {
     "data": {
      "image/png": "[encoded data removed]",
      "text/plain": [
       "<Figure size 432x288 with 1 Axes>"
      ]
     },
     "metadata": {
      "needs_background": "light"
     },
     "output_type": "display_data"
    }
   ],
   "source": [
    "plt.xlabel('Data Value')\n",
    "plt.ylabel('Variation in Prediction')\n",
    "plt.plot(Xt,abs(y1-y2),label='test')\n",
    "# plt.plot(X,y2,label='predictor')\n",
    "plt.legend()"
   ]
  },
  {
   "cell_type": "code",
   "execution_count": 50,
   "metadata": {},
   "outputs": [],
   "source": [
    "##LOG REG\n"
   ]
  },
  {
   "cell_type": "code",
   "execution_count": null,
   "metadata": {},
   "outputs": [],
   "source": []
  },
  {
   "cell_type": "code",
   "execution_count": null,
   "metadata": {},
   "outputs": [],
   "source": []
  }
 ],
 "metadata": {
  "kernelspec": {
   "display_name": "Python 3",
   "language": "python",
   "name": "python3"
  },
  "language_info": {
   "codemirror_mode": {
    "name": "ipython",
    "version": 3
   },
   "file_extension": ".py",
   "mimetype": "text/x-python",
   "name": "python",
   "nbconvert_exporter": "python",
   "pygments_lexer": "ipython3",
   "version": "3.7.4"
  }
 },
 "nbformat": 4,
 "nbformat_minor": 2
}
